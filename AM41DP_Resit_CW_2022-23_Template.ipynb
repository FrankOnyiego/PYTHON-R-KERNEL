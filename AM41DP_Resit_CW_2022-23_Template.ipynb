{
 "cells": [
  {
   "cell_type": "markdown",
   "metadata": {},
   "source": [
    "# Resit CW - Solutions"
   ]
  },
  {
   "cell_type": "markdown",
   "metadata": {},
   "source": [
    "# Q1(a) \n",
    "Read in the \"Life_Expectancy.csv\" file to create a dataframe. Remove the rows that satisfy \"Area type\" is \"Combined Authority\", \"County\", \"Country\" or \"Regions\". Then remove the columns named \"Area type\", \"Area name\", \"Country\", \"LE lower confidence interval\" and \"LE upper confidence interval\". Change all the values in the \"Period\" column to the midpoint of the year range given, for example change \"2001-2003\" to 2002, \"2002-2004\" to 2003, etc... Change the values in the \"Age group\" column so that if ageband is 1 then \"Age group\" is 0.5, if \"Ageband\" is 2 then \"Age group\" is 2.5, and if \"Ageband\" is 3 or more then \"Age group\" is -8 + 5 times the \"Ageband\". (5 marks)"
   ]
  },
  {
   "cell_type": "code",
   "execution_count": 38,
   "metadata": {},
   "outputs": [
    {
     "name": "stdout",
     "output_type": "stream",
     "text": [
      "        Period  Area code  Sex_code     Sex  Ageband  Age group  \\\n",
      "0         2002  E06000001         1    Male        1        0.5   \n",
      "1         2002  E06000002         1    Male        1        0.5   \n",
      "2         2002  E06000003         1    Male        1        0.5   \n",
      "3         2002  E06000004         1    Male        1        0.5   \n",
      "4         2002  E06000005         1    Male        1        0.5   \n",
      "...        ...        ...       ...     ...      ...        ...   \n",
      "311034    2019  W11000025         2  Female       20       92.0   \n",
      "311035    2019  W11000028         2  Female       20       92.0   \n",
      "311036    2019  W11000029         2  Female       20       92.0   \n",
      "311037    2019  W11000030         2  Female       20       92.0   \n",
      "311038    2019  W11000031         2  Female       20       92.0   \n",
      "\n",
      "        Life expectancy (LE)  \n",
      "0                      73.42  \n",
      "1                      73.68  \n",
      "2                      75.13  \n",
      "3                      75.28  \n",
      "4                      74.80  \n",
      "...                      ...  \n",
      "311034                  4.82  \n",
      "311035                  4.41  \n",
      "311036                  4.67  \n",
      "311037                  3.89  \n",
      "311038                  4.27  \n",
      "\n",
      "[283680 rows x 7 columns]\n"
     ]
    }
   ],
   "source": [
    "import pandas as pd\n",
    "\n",
    "# Step 1: Read the Life_Expectancy.csv file and create a dataframe\n",
    "df = pd.read_csv(\"Life_Expectancy.csv\")\n",
    "\n",
    "# Step 2: Remove rows with Area type as \"Combined Authority\", \"County\", \"Country\", or \"Regions\"\n",
    "area_types_to_remove = [\"Combined Authority\", \"County\", \"Country\", \"Regions\"]\n",
    "df = df[~df[\"Area type\"].isin(area_types_to_remove)]\n",
    "\n",
    "# Step 3: Remove unnecessary columns\n",
    "columns_to_remove = [\"Area type\", \"Area name\", \"Country\", \"LE lower confidence interval\", \"LE upper confidence interval\"]\n",
    "df.drop(columns=columns_to_remove, inplace=True)\n",
    "\n",
    "# Step 4: Convert values in the \"Period\" column to the midpoint of the year range\n",
    "df[\"Period\"] = df[\"Period\"].apply(lambda x: int(x[:4]) + 1)\n",
    "\n",
    "# Step 5: Convert values in the \"Age group\" column based on the \"Ageband\"\n",
    "def age_group_conversion(ageband):\n",
    "    if ageband == 1:\n",
    "        return 0.5\n",
    "    elif ageband == 2:\n",
    "        return 2.5\n",
    "    else:\n",
    "        return -8 + 5 * ageband\n",
    "\n",
    "df[\"Age group\"] = df[\"Ageband\"].apply(age_group_conversion)\n",
    "\n",
    "# Display the modified dataframe\n",
    "print(df)\n"
   ]
  },
  {
   "cell_type": "code",
   "execution_count": 5,
   "metadata": {},
   "outputs": [],
   "source": []
  },
  {
   "cell_type": "code",
   "execution_count": null,
   "metadata": {},
   "outputs": [],
   "source": []
  },
  {
   "cell_type": "markdown",
   "metadata": {},
   "source": [
    "# Q1(b) \n",
    "Create a new column called \"Expected_Age\" using the sum of \"Life expectancy (LE)\" and \"Age group\". Using Matplotlib create a bar chart showing the mean \"Expected_Age\" of males in 2019 against \"Age group\" and the mean \"Expected_Age\" of females in 2019 against \"Age group\". Discuss your plot. (4 marks)"
   ]
  },
  {
   "cell_type": "code",
   "execution_count": 56,
   "metadata": {},
   "outputs": [
    {
     "data": {
      "image/png": "[encoded data removed]",
      "text/plain": [
       "<Figure size 720x432 with 1 Axes>"
      ]
     },
     "metadata": {
      "needs_background": "light"
     },
     "output_type": "display_data"
    }
   ],
   "source": [
    "import pandas as pd\n",
    "import matplotlib.pyplot as plt\n",
    "\n",
    "# Step 1: Read the \"Life_Expectancy.csv\" file and create a dataframe\n",
    "df = pd.read_csv(\"Life_Expectancy.csv\")\n",
    "\n",
    "# Step 2: Calculate the \"Expected_Age\" by summing \"Life expectancy (LE)\" and \"Age group\"\n",
    "# Convert \"Age group\" to numeric\n",
    "df[\"Age group\"] = df[\"Age group\"].str.extract(r'(\\d+\\.?\\d*)').astype(float)\n",
    "df[\"Expected_Age\"] = df[\"Life expectancy (LE)\"] + df[\"Age group\"]\n",
    "\n",
    "# Step 3: Filter data for the year 2019 and separate by sex (Male and Female)\n",
    "df_2019 = df[df[\"Period\"] == 2019]\n",
    "\n",
    "# Calculate the mean \"Expected_Age\" for each \"Age group\" for both Male and Female categories\n",
    "mean_expected_age_male = df_2019[df_2019[\"Sex\"] == \"Male\"].groupby(\"Age group\")[\"Expected_Age\"].mean()\n",
    "mean_expected_age_female = df_2019[df_2019[\"Sex\"] == \"Female\"].groupby(\"Age group\")[\"Expected_Age\"].mean()\n",
    "\n",
    "# Step 4: Create a bar chart using Matplotlib\n",
    "plt.figure(figsize=(10, 6))\n",
    "plt.bar(mean_expected_age_male.index, mean_expected_age_male, label=\"Male\", width=0.4, align=\"center\", alpha=0.8)\n",
    "plt.bar(mean_expected_age_female.index + 0.4, mean_expected_age_female, label=\"Female\", width=0.4, align=\"center\", alpha=0.8)\n",
    "\n",
    "# Set plot details\n",
    "plt.xlabel(\"Age group\")\n",
    "plt.ylabel(\"Mean Expected_Age\")\n",
    "plt.title(\"Mean Expected_Age of Males and Females in 2019\")\n",
    "plt.xticks(mean_expected_age_male.index + 0.2, mean_expected_age_male.index)\n",
    "plt.legend()\n",
    "\n",
    "# Show the plot\n",
    "plt.show()\n"
   ]
  },
  {
   "cell_type": "code",
   "execution_count": null,
   "metadata": {},
   "outputs": [],
   "source": []
  },
  {
   "cell_type": "code",
   "execution_count": null,
   "metadata": {},
   "outputs": [],
   "source": []
  },
  {
   "cell_type": "markdown",
   "metadata": {},
   "source": [
    "# Q1(c) \n",
    "Read in the \"Location_Codes.csv\" file. Create a new column named \"Stat_code\". \n",
    "Use the information in this csv file and the codes in the \"Area code\" column \n",
    "to define the values in the \"Stat_code\" column between \"TLC\" and \"TLN\" \n",
    "appropriately. (2 marks)"
   ]
  },
  {
   "cell_type": "code",
   "execution_count": 92,
   "metadata": {},
   "outputs": [
    {
     "name": "stdout",
     "output_type": "stream",
     "text": [
      "           Period  Country            Area type  Area code  \\\n",
      "0       2001-2003  England          Local Areas  E06000001   \n",
      "1       2001-2003  England          Local Areas  E06000002   \n",
      "2       2001-2003  England          Local Areas  E06000003   \n",
      "3       2001-2003  England          Local Areas  E06000004   \n",
      "4       2001-2003  England          Local Areas  E06000005   \n",
      "...           ...      ...                  ...        ...   \n",
      "311035  2018-2020    Wales  Welsh Health Boards  W11000028   \n",
      "311036  2018-2020    Wales  Welsh Health Boards  W11000029   \n",
      "311037  2018-2020    Wales  Welsh Health Boards  W11000030   \n",
      "311038  2018-2020    Wales  Welsh Health Boards  W11000031   \n",
      "311039  2018-2020    Wales              Country  W92000004   \n",
      "\n",
      "                                                Area name  Sex_code     Sex  \\\n",
      "0                                              Hartlepool         1    Male   \n",
      "1                                           Middlesbrough         1    Male   \n",
      "2                                    Redcar and Cleveland         1    Male   \n",
      "3                                        Stockton-on-Tees         1    Male   \n",
      "4                                              Darlington         1    Male   \n",
      "...                                                   ...       ...     ...   \n",
      "311035  Aneurin Bevan University Health Board/ Bwrdd I...         2  Female   \n",
      "311036  Cardiff and Vale University Health Board/ Bwrd...         2  Female   \n",
      "311037  Cwm Taf Morgannwg University Health Board/ Bwr...         2  Female   \n",
      "311038  Swansea Bay University Health Board/ Bwrdd Iec...         2  Female   \n",
      "311039                                              Wales         2  Female   \n",
      "\n",
      "        Ageband Age group  Life expectancy (LE)  ...        TLE        TLF  \\\n",
      "0             1        <1                 73.42  ...  E06000010  E06000015   \n",
      "1             1        <1                 73.68  ...  E06000011  E06000016   \n",
      "2             1        <1                 75.13  ...  E06000012  E06000017   \n",
      "3             1        <1                 75.28  ...  E06000013  E06000018   \n",
      "4             1        <1                 74.80  ...  E06000014  E06000061   \n",
      "...         ...       ...                   ...  ...        ...        ...   \n",
      "311035       20       90+                  4.41  ...        NaN        NaN   \n",
      "311036       20       90+                  4.67  ...        NaN        NaN   \n",
      "311037       20       90+                  3.89  ...        NaN        NaN   \n",
      "311038       20       90+                  4.27  ...        NaN        NaN   \n",
      "311039       20       90+                  4.47  ...        NaN        NaN   \n",
      "\n",
      "              TLG        TLH        TLI        TLJ        TLK        TLL  \\\n",
      "0       E06000019  E06000031  E09000002  E06000035  E06000022  W06000001   \n",
      "1       E06000020  E06000032  E09000003  E06000036  E06000023  W06000002   \n",
      "2       E06000021  E06000033  E09000004  E06000037  E06000024  W06000003   \n",
      "3       E06000051  E06000034  E09000005  E06000038  E06000025  W06000004   \n",
      "4       E07000095  E06000055  E09000006  E06000039  E06000026  W06000005   \n",
      "...           ...        ...        ...        ...        ...        ...   \n",
      "311035        NaN        NaN        NaN        NaN        NaN        NaN   \n",
      "311036        NaN        NaN        NaN        NaN        NaN        NaN   \n",
      "311037        NaN        NaN        NaN        NaN        NaN        NaN   \n",
      "311038        NaN        NaN        NaN        NaN        NaN        NaN   \n",
      "311039        NaN        NaN        NaN        NaN        NaN        NaN   \n",
      "\n",
      "              TLM        TLN  \n",
      "0       S12000005  N09000001  \n",
      "1       S12000006  N09000002  \n",
      "2       S12000008  N09000003  \n",
      "3       S12000010  N09000004  \n",
      "4       S12000011  N09000005  \n",
      "...           ...        ...  \n",
      "311035        NaN        NaN  \n",
      "311036        NaN        NaN  \n",
      "311037        NaN        NaN  \n",
      "311038        NaN        NaN  \n",
      "311039        NaN        NaN  \n",
      "\n",
      "[311040 rows x 25 columns]\n",
      "      Period  Country    Area type  Area code             Area name  Sex_code  \\\n",
      "0  2001-2003  England  Local Areas  E06000001            Hartlepool         1   \n",
      "1  2001-2003  England  Local Areas  E06000002         Middlesbrough         1   \n",
      "2  2001-2003  England  Local Areas  E06000003  Redcar and Cleveland         1   \n",
      "3  2001-2003  England  Local Areas  E06000004      Stockton-on-Tees         1   \n",
      "4  2001-2003  England  Local Areas  E06000005            Darlington         1   \n",
      "\n",
      "    Sex  Ageband Age group  Life expectancy (LE)  \\\n",
      "0  Male        1        <1                 73.42   \n",
      "1  Male        1        <1                 73.68   \n",
      "2  Male        1        <1                 75.13   \n",
      "3  Male        1        <1                 75.28   \n",
      "4  Male        1        <1                 74.80   \n",
      "\n",
      "   LE lower confidence interval  LE upper confidence interval Stat_code  \\\n",
      "0                         72.68                         74.16       NaN   \n",
      "1                         73.05                         74.32       NaN   \n",
      "2                         74.54                         75.72       NaN   \n",
      "3                         74.76                         75.79       NaN   \n",
      "4                         74.10                         75.50       NaN   \n",
      "\n",
      "   Stat_code  \n",
      "0  N09000001  \n",
      "1  N09000002  \n",
      "2  N09000003  \n",
      "3  N09000004  \n",
      "4  N09000005  \n"
     ]
    }
   ],
   "source": [
    "import pandas as pd\n",
    "\n",
    "# Step 1: Read the \"Life_Expectancy.csv\" file and create a dataframe\n",
    "df_life_expectancy = pd.read_csv(\"Life_Expectancy.csv\")\n",
    "\n",
    "# Step 2: Read the \"Location_Codes.csv\" file and create a dataframe\n",
    "df_location_codes = pd.read_csv(\"Location_Codes.csv\", sep=\"\\t\")\n",
    "\n",
    "# Step 3: Merge the dataframes using the \"Area code\" column to add the \"Stat_code\" column\n",
    "df_life_expectancy = df_life_expectancy.merge(df_location_codes, left_on=\"Area code\", right_on=\"TLC\", how=\"left\")\n",
    "print(df_life_expectancy)\n",
    "\n",
    "\n",
    "# Step 4: Drop unnecessary columns from the merged dataframe\n",
    "df_life_expectancy.drop(columns=[\"TLC\", \"TLD\", \"TLE\", \"TLF\", \"TLG\", \"TLH\", \"TLI\", \"TLJ\", \"TLK\", \"TLL\", \"TLM\"], inplace=True)\n",
    "\n",
    "# Step 5: Rename the column to \"Stat_code\"\n",
    "df_life_expectancy.rename(columns={\"TLN\": \"Stat_code\"}, inplace=True)\n",
    "\n",
    "# Display the updated dataframe\n",
    "print(df_life_expectancy.head())\n"
   ]
  },
  {
   "cell_type": "code",
   "execution_count": null,
   "metadata": {},
   "outputs": [],
   "source": []
  },
  {
   "cell_type": "code",
   "execution_count": null,
   "metadata": {},
   "outputs": [],
   "source": []
  },
  {
   "cell_type": "markdown",
   "metadata": {},
   "source": [
    "# Q1(d) \n",
    "Introduce a column called \"Stat_Number\" such that if \"Stat_code\"=\"TLC\" then \"Stat_Number\"=0, \n",
    "if \"Stat_code\"=\"TLD\" then \"Stat_Number\"=1, etc... up to if \"Stat_code\"=\"TLN\" then \"Stat_Number\"=11. \n",
    "Then create a barchart of the average life expectancy of males in ageband 20 against \"Stat_Number\" and the average life expectancy of females in ageband 20 against \"Stat_Number\". Discuss any relevant features. Create a scatter plot to show the mean life expectancy of males in ageband 1 against period and the mean life expectancy of females in ageband 1 against period. Discuss your plot. Create a histogram showing the mean life expectancy of males in 2019 against ageband and the mean life expectancy of females in 2019 against ageband. Discuss your plot. (10 marks)"
   ]
  },
  {
   "cell_type": "code",
   "execution_count": 59,
   "metadata": {},
   "outputs": [
    {
     "data": {
      "image/png": "[encoded data removed]",
      "text/plain": [
       "<Figure size 720x432 with 1 Axes>"
      ]
     },
     "metadata": {
      "needs_background": "light"
     },
     "output_type": "display_data"
    },
    {
     "data": {
      "image/png": "[encoded data removed]",
      "text/plain": [
       "<Figure size 720x432 with 1 Axes>"
      ]
     },
     "metadata": {
      "needs_background": "light"
     },
     "output_type": "display_data"
    },
    {
     "data": {
      "image/png": "[encoded data removed]",
      "text/plain": [
       "<Figure size 720x432 with 1 Axes>"
      ]
     },
     "metadata": {
      "needs_background": "light"
     },
     "output_type": "display_data"
    }
   ],
   "source": [
    "import pandas as pd\n",
    "import matplotlib.pyplot as plt\n",
    "\n",
    "# Step 1: Read the \"Life_Expectancy.csv\" file and create a dataframe\n",
    "df_life_expectancy = pd.read_csv(\"Life_Expectancy.csv\")\n",
    "\n",
    "# Step 2: Read the \"Location_Codes.csv\" file and create a dataframe with tab separator\n",
    "df_location_codes = pd.read_csv(\"Location_Codes.csv\", sep=\"\\t\")\n",
    "\n",
    "# Step 3: Merge the dataframes using the \"Area code\" column to add the \"Stat_code\" column\n",
    "df_life_expectancy = df_life_expectancy.merge(df_location_codes, left_on=\"Area code\", right_on=\"TLC\", how=\"left\")\n",
    "\n",
    "# Step 4: Introduce the \"Stat_Number\" column based on \"Stat_code\"\n",
    "stat_mapping = {\n",
    "    \"TLC\": 0,\n",
    "    \"TLD\": 1,\n",
    "    \"TLE\": 2,\n",
    "    \"TLF\": 3,\n",
    "    \"TLG\": 4,\n",
    "    \"TLH\": 5,\n",
    "    \"TLI\": 6,\n",
    "    \"TLJ\": 7,\n",
    "    \"TLK\": 8,\n",
    "    \"TLL\": 9,\n",
    "    \"TLM\": 10,\n",
    "    \"TLN\": 11\n",
    "}\n",
    "df_life_expectancy[\"Stat_Number\"] = df_life_expectancy[\"Stat_code\"].map(stat_mapping)\n",
    "\n",
    "# Step 5: Create a bar chart for average life expectancy of males and females in ageband 20 against \"Stat_Number\"\n",
    "df_ageband_20 = df_life_expectancy[df_life_expectancy[\"Ageband\"] == 20]\n",
    "mean_le_male = df_ageband_20[df_ageband_20[\"Sex\"] == \"Male\"].groupby(\"Stat_Number\")[\"Life expectancy (LE)\"].mean()\n",
    "mean_le_female = df_ageband_20[df_ageband_20[\"Sex\"] == \"Female\"].groupby(\"Stat_Number\")[\"Life expectancy (LE)\"].mean()\n",
    "\n",
    "plt.figure(figsize=(10, 6))\n",
    "plt.bar(mean_le_male.index, mean_le_male, label=\"Male\", width=0.4, align=\"center\", alpha=0.8)\n",
    "plt.bar(mean_le_female.index + 0.4, mean_le_female, label=\"Female\", width=0.4, align=\"center\", alpha=0.8)\n",
    "\n",
    "# Set plot details\n",
    "plt.xlabel(\"Stat_Number\")\n",
    "plt.ylabel(\"Average Life Expectancy\")\n",
    "plt.title(\"Average Life Expectancy of Males and Females in Ageband 20\")\n",
    "plt.xticks(mean_le_male.index + 0.2, mean_le_male.index)\n",
    "plt.legend()\n",
    "\n",
    "# Show the plot\n",
    "plt.show()\n",
    "\n",
    "# Step 6: Create a scatter plot to show the mean life expectancy of males and females in ageband 1 against \"Period\"\n",
    "df_ageband_1 = df_life_expectancy[df_life_expectancy[\"Ageband\"] == 1]\n",
    "mean_le_ageband_1_male = df_ageband_1[df_ageband_1[\"Sex\"] == \"Male\"].groupby(\"Period\")[\"Life expectancy (LE)\"].mean()\n",
    "mean_le_ageband_1_female = df_ageband_1[df_ageband_1[\"Sex\"] == \"Female\"].groupby(\"Period\")[\"Life expectancy (LE)\"].mean()\n",
    "\n",
    "plt.figure(figsize=(10, 6))\n",
    "plt.scatter(mean_le_ageband_1_male.index, mean_le_ageband_1_male, label=\"Male\", marker=\"o\")\n",
    "plt.scatter(mean_le_ageband_1_female.index, mean_le_ageband_1_female, label=\"Female\", marker=\"x\")\n",
    "\n",
    "# Set plot details\n",
    "plt.xlabel(\"Period\")\n",
    "plt.ylabel(\"Mean Life Expectancy\")\n",
    "plt.title(\"Mean Life Expectancy of Males and Females in Ageband 1\")\n",
    "plt.legend()\n",
    "\n",
    "# Show the plot\n",
    "plt.show()\n",
    "\n",
    "# Step 7: Create a histogram showing the mean life expectancy of males and females in 2019 against ageband\n",
    "df_2019 = df_life_expectancy[df_life_expectancy[\"Period\"] == 2019]\n",
    "mean_le_2019_male = df_2019[df_2019[\"Sex\"] == \"Male\"].groupby(\"Ageband\")[\"Life expectancy (LE)\"].mean()\n",
    "mean_le_2019_female = df_2019[df_2019[\"Sex\"] == \"Female\"].groupby(\"Ageband\")[\"Life expectancy (LE)\"].mean()\n",
    "\n",
    "\n",
    "plt.figure(figsize=(10, 6))\n",
    "plt.hist(df_2019[df_2019[\"Sex\"] == \"Male\"][\"Life expectancy (LE)\"], bins=10, alpha=0.7, label=\"Male\", color=\"blue\")\n",
    "plt.hist(df_2019[df_2019[\"Sex\"] == \"Female\"][\"Life expectancy (LE)\"], bins=10, alpha=0.7, label=\"Female\", color=\"red\")\n",
    "\n",
    "# Set plot details\n",
    "plt.xlabel(\"Ageband\")\n",
    "plt.ylabel(\"Mean Life Expectancy\")\n",
    "plt.title(\"Mean Life Expectancy of Males and Females in 2019\")\n",
    "plt.legend()\n",
    "\n",
    "# Show the plot\n",
    "plt.show()\n"
   ]
  },
  {
   "cell_type": "code",
   "execution_count": null,
   "metadata": {},
   "outputs": [],
   "source": []
  },
  {
   "cell_type": "code",
   "execution_count": null,
   "metadata": {},
   "outputs": [],
   "source": []
  },
  {
   "cell_type": "markdown",
   "metadata": {},
   "source": [
    "# Q1(e)\n",
    "Split the data into (80%) training data and (20%) test data. Use an appropriate linear model from sklearn to predict the \"Expected age\" using the variables: 'Period', 'Sex code' and 'Age group'. Test your model using the test data set. Discuss your results including any relevant figures. (5 marks)"
   ]
  },
  {
   "cell_type": "code",
   "execution_count": 75,
   "metadata": {
    "scrolled": true
   },
   "outputs": [
    {
     "name": "stdout",
     "output_type": "stream",
     "text": [
      "Mean Squared Error: 6.858240876559568\n",
      "R-squared: 0.9891677365218575\n"
     ]
    }
   ],
   "source": [
    "import pandas as pd\n",
    "from sklearn.model_selection import train_test_split\n",
    "from sklearn.linear_model import LinearRegression\n",
    "from sklearn.metrics import mean_squared_error, r2_score\n",
    "\n",
    "# Step 1: Read the \"Life_Expectancy.csv\" file and create a dataframe\n",
    "df_life_expectancy = pd.read_csv(\"Life_Expectancy.csv\")\n",
    "\n",
    "# Step 2: Preprocess the \"Period\" column to extract the midpoint of the year range\n",
    "df_life_expectancy['Period'] = df_life_expectancy['Period'].apply(lambda x: int(x.split('-')[0]) + 1)\n",
    "\n",
    "# Step 3: Preprocess the \"Age group\" column to handle '<1' values and extract the midpoint of the age range\n",
    "def preprocess_age_group(age_group):\n",
    "    age_group_mapping = {\n",
    "        '01-Apr': 0.5,\n",
    "        '05-Sep': 7,\n",
    "        '15-19': 17,\n",
    "        '20-24': 22,\n",
    "        '25-29': 27,\n",
    "        '30-34': 32,\n",
    "        '35-39': 37,\n",
    "        '40-44': 42,\n",
    "        '45-49': 47,\n",
    "        '50-54': 52,\n",
    "        '55-59': 57,\n",
    "        '60-64': 62,\n",
    "        '65-69': 67,\n",
    "        '70-74': 72,\n",
    "        '75-79': 77,\n",
    "        '80-84': 82,\n",
    "        '85-89': 87,\n",
    "        '90+': 95,\n",
    "        '<1': 0.5,\n",
    "        'Oct-14': (10 + 14) / 2\n",
    "    }\n",
    "    \n",
    "    return age_group_mapping.get(age_group, None)\n",
    "\n",
    "df_life_expectancy['Age group'] = df_life_expectancy['Age group'].apply(preprocess_age_group)\n",
    "\n",
    "# Step 4: Drop any rows with missing or invalid values in the \"Age group\" column\n",
    "df_life_expectancy.dropna(subset=['Age group'], inplace=True)\n",
    "\n",
    "# Step 5: Prepare the data and split it into training and test sets\n",
    "X = df_life_expectancy[['Period', 'Sex_code', 'Age group']]\n",
    "y = df_life_expectancy['Life expectancy (LE)']\n",
    "X_train, X_test, y_train, y_test = train_test_split(X, y, test_size=0.2, random_state=42)\n",
    "\n",
    "# Step 6: Train the linear model on the training data\n",
    "linear_model = LinearRegression()\n",
    "linear_model.fit(X_train, y_train)\n",
    "\n",
    "# Step 7: Use the trained model to make predictions on the test data\n",
    "y_pred = linear_model.predict(X_test)\n",
    "\n",
    "# Evaluate the model's performance\n",
    "mse = mean_squared_error(y_test, y_pred)\n",
    "r_squared = r2_score(y_test, y_pred)\n",
    "\n",
    "print(f\"Mean Squared Error: {mse}\")\n",
    "print(f\"R-squared: {r_squared}\")"
   ]
  },
  {
   "cell_type": "code",
   "execution_count": null,
   "metadata": {},
   "outputs": [],
   "source": []
  },
  {
   "cell_type": "code",
   "execution_count": null,
   "metadata": {},
   "outputs": [],
   "source": []
  },
  {
   "cell_type": "markdown",
   "metadata": {},
   "source": [
    "# Q1(f)\n",
    "For females in the period 2019, normalise the data appropriately, split the data into (80%) training data and (20%) test data. You need to pick a suitable linear model in sklearn to try to predict the \"Stat_code\" using the \"Age group\" and \"Expected_Age\". First normalise your input data before using sklearn. Comment on the testing error. (4 marks)"
   ]
  },
  {
   "cell_type": "code",
   "execution_count": 108,
   "metadata": {},
   "outputs": [
    {
     "name": "stderr",
     "output_type": "stream",
     "text": [
      "<ipython-input-108-621430c8a69c>:38: SettingWithCopyWarning: \n",
      "A value is trying to be set on a copy of a slice from a DataFrame.\n",
      "Try using .loc[row_indexer,col_indexer] = value instead\n",
      "\n",
      "See the caveats in the documentation: https://pandas.pydata.org/pandas-docs/stable/user_guide/indexing.html#returning-a-view-versus-a-copy\n",
      "  df_females_2019['Age group'] = df_females_2019['Age group'].map(age_group_mapping)\n"
     ]
    },
    {
     "ename": "KeyError",
     "evalue": "'Area code'",
     "output_type": "error",
     "traceback": [
      "\u001b[1;31m---------------------------------------------------------------------------\u001b[0m",
      "\u001b[1;31mKeyError\u001b[0m                                  Traceback (most recent call last)",
      "\u001b[1;32m<ipython-input-108-621430c8a69c>\u001b[0m in \u001b[0;36m<module>\u001b[1;34m\u001b[0m\n\u001b[0;32m     44\u001b[0m \u001b[1;33m\u001b[0m\u001b[0m\n\u001b[0;32m     45\u001b[0m \u001b[1;31m# Step 5: Merge the DataFrames based on the appropriate columns (e.g., 'Area code' in df_females_2019 and 'Area code' in df_location_codes)\u001b[0m\u001b[1;33m\u001b[0m\u001b[1;33m\u001b[0m\u001b[1;33m\u001b[0m\u001b[0m\n\u001b[1;32m---> 46\u001b[1;33m \u001b[0mdf_females_2019\u001b[0m \u001b[1;33m=\u001b[0m \u001b[0mpd\u001b[0m\u001b[1;33m.\u001b[0m\u001b[0mmerge\u001b[0m\u001b[1;33m(\u001b[0m\u001b[0mdf_females_2019\u001b[0m\u001b[1;33m,\u001b[0m \u001b[0mdf_location_codes\u001b[0m\u001b[1;33m,\u001b[0m \u001b[0mleft_on\u001b[0m\u001b[1;33m=\u001b[0m\u001b[1;34m'Area code'\u001b[0m\u001b[1;33m,\u001b[0m \u001b[0mright_on\u001b[0m\u001b[1;33m=\u001b[0m\u001b[1;34m'Area code'\u001b[0m\u001b[1;33m,\u001b[0m \u001b[0mhow\u001b[0m\u001b[1;33m=\u001b[0m\u001b[1;34m'left'\u001b[0m\u001b[1;33m)\u001b[0m\u001b[1;33m\u001b[0m\u001b[1;33m\u001b[0m\u001b[0m\n\u001b[0m\u001b[0;32m     47\u001b[0m \u001b[1;33m\u001b[0m\u001b[0m\n\u001b[0;32m     48\u001b[0m \u001b[1;31m# Step 6: Prepare the target data (Stat_code)\u001b[0m\u001b[1;33m\u001b[0m\u001b[1;33m\u001b[0m\u001b[1;33m\u001b[0m\u001b[0m\n",
      "\u001b[1;32m~\\anaconda3\\lib\\site-packages\\pandas\\core\\reshape\\merge.py\u001b[0m in \u001b[0;36mmerge\u001b[1;34m(left, right, how, on, left_on, right_on, left_index, right_index, sort, suffixes, copy, indicator, validate)\u001b[0m\n\u001b[0;32m     72\u001b[0m     \u001b[0mvalidate\u001b[0m\u001b[1;33m=\u001b[0m\u001b[1;32mNone\u001b[0m\u001b[1;33m,\u001b[0m\u001b[1;33m\u001b[0m\u001b[1;33m\u001b[0m\u001b[0m\n\u001b[0;32m     73\u001b[0m ) -> \"DataFrame\":\n\u001b[1;32m---> 74\u001b[1;33m     op = _MergeOperation(\n\u001b[0m\u001b[0;32m     75\u001b[0m         \u001b[0mleft\u001b[0m\u001b[1;33m,\u001b[0m\u001b[1;33m\u001b[0m\u001b[1;33m\u001b[0m\u001b[0m\n\u001b[0;32m     76\u001b[0m         \u001b[0mright\u001b[0m\u001b[1;33m,\u001b[0m\u001b[1;33m\u001b[0m\u001b[1;33m\u001b[0m\u001b[0m\n",
      "\u001b[1;32m~\\anaconda3\\lib\\site-packages\\pandas\\core\\reshape\\merge.py\u001b[0m in \u001b[0;36m__init__\u001b[1;34m(self, left, right, how, on, left_on, right_on, axis, left_index, right_index, sort, suffixes, copy, indicator, validate)\u001b[0m\n\u001b[0;32m    650\u001b[0m             \u001b[0mself\u001b[0m\u001b[1;33m.\u001b[0m\u001b[0mright_join_keys\u001b[0m\u001b[1;33m,\u001b[0m\u001b[1;33m\u001b[0m\u001b[1;33m\u001b[0m\u001b[0m\n\u001b[0;32m    651\u001b[0m             \u001b[0mself\u001b[0m\u001b[1;33m.\u001b[0m\u001b[0mjoin_names\u001b[0m\u001b[1;33m,\u001b[0m\u001b[1;33m\u001b[0m\u001b[1;33m\u001b[0m\u001b[0m\n\u001b[1;32m--> 652\u001b[1;33m         ) = self._get_merge_keys()\n\u001b[0m\u001b[0;32m    653\u001b[0m \u001b[1;33m\u001b[0m\u001b[0m\n\u001b[0;32m    654\u001b[0m         \u001b[1;31m# validate the merge keys dtypes. We may need to coerce\u001b[0m\u001b[1;33m\u001b[0m\u001b[1;33m\u001b[0m\u001b[1;33m\u001b[0m\u001b[0m\n",
      "\u001b[1;32m~\\anaconda3\\lib\\site-packages\\pandas\\core\\reshape\\merge.py\u001b[0m in \u001b[0;36m_get_merge_keys\u001b[1;34m(self)\u001b[0m\n\u001b[0;32m   1003\u001b[0m                     \u001b[1;32mif\u001b[0m \u001b[1;32mnot\u001b[0m \u001b[0mis_rkey\u001b[0m\u001b[1;33m(\u001b[0m\u001b[0mrk\u001b[0m\u001b[1;33m)\u001b[0m\u001b[1;33m:\u001b[0m\u001b[1;33m\u001b[0m\u001b[1;33m\u001b[0m\u001b[0m\n\u001b[0;32m   1004\u001b[0m                         \u001b[1;32mif\u001b[0m \u001b[0mrk\u001b[0m \u001b[1;32mis\u001b[0m \u001b[1;32mnot\u001b[0m \u001b[1;32mNone\u001b[0m\u001b[1;33m:\u001b[0m\u001b[1;33m\u001b[0m\u001b[1;33m\u001b[0m\u001b[0m\n\u001b[1;32m-> 1005\u001b[1;33m                             \u001b[0mright_keys\u001b[0m\u001b[1;33m.\u001b[0m\u001b[0mappend\u001b[0m\u001b[1;33m(\u001b[0m\u001b[0mright\u001b[0m\u001b[1;33m.\u001b[0m\u001b[0m_get_label_or_level_values\u001b[0m\u001b[1;33m(\u001b[0m\u001b[0mrk\u001b[0m\u001b[1;33m)\u001b[0m\u001b[1;33m)\u001b[0m\u001b[1;33m\u001b[0m\u001b[1;33m\u001b[0m\u001b[0m\n\u001b[0m\u001b[0;32m   1006\u001b[0m                         \u001b[1;32melse\u001b[0m\u001b[1;33m:\u001b[0m\u001b[1;33m\u001b[0m\u001b[1;33m\u001b[0m\u001b[0m\n\u001b[0;32m   1007\u001b[0m                             \u001b[1;31m# work-around for merge_asof(right_index=True)\u001b[0m\u001b[1;33m\u001b[0m\u001b[1;33m\u001b[0m\u001b[1;33m\u001b[0m\u001b[0m\n",
      "\u001b[1;32m~\\anaconda3\\lib\\site-packages\\pandas\\core\\generic.py\u001b[0m in \u001b[0;36m_get_label_or_level_values\u001b[1;34m(self, key, axis)\u001b[0m\n\u001b[0;32m   1561\u001b[0m             \u001b[0mvalues\u001b[0m \u001b[1;33m=\u001b[0m \u001b[0mself\u001b[0m\u001b[1;33m.\u001b[0m\u001b[0maxes\u001b[0m\u001b[1;33m[\u001b[0m\u001b[0maxis\u001b[0m\u001b[1;33m]\u001b[0m\u001b[1;33m.\u001b[0m\u001b[0mget_level_values\u001b[0m\u001b[1;33m(\u001b[0m\u001b[0mkey\u001b[0m\u001b[1;33m)\u001b[0m\u001b[1;33m.\u001b[0m\u001b[0m_values\u001b[0m\u001b[1;33m\u001b[0m\u001b[1;33m\u001b[0m\u001b[0m\n\u001b[0;32m   1562\u001b[0m         \u001b[1;32melse\u001b[0m\u001b[1;33m:\u001b[0m\u001b[1;33m\u001b[0m\u001b[1;33m\u001b[0m\u001b[0m\n\u001b[1;32m-> 1563\u001b[1;33m             \u001b[1;32mraise\u001b[0m \u001b[0mKeyError\u001b[0m\u001b[1;33m(\u001b[0m\u001b[0mkey\u001b[0m\u001b[1;33m)\u001b[0m\u001b[1;33m\u001b[0m\u001b[1;33m\u001b[0m\u001b[0m\n\u001b[0m\u001b[0;32m   1564\u001b[0m \u001b[1;33m\u001b[0m\u001b[0m\n\u001b[0;32m   1565\u001b[0m         \u001b[1;31m# Check for duplicates\u001b[0m\u001b[1;33m\u001b[0m\u001b[1;33m\u001b[0m\u001b[1;33m\u001b[0m\u001b[0m\n",
      "\u001b[1;31mKeyError\u001b[0m: 'Area code'"
     ]
    }
   ],
   "source": [
    "import pandas as pd\n",
    "from sklearn.model_selection import train_test_split\n",
    "from sklearn.preprocessing import StandardScaler\n",
    "from sklearn.svm import SVC\n",
    "from sklearn.metrics import accuracy_score\n",
    "\n",
    "# Step 1: Read the \"Life_Expectancy.csv\" and \"Location_Codes.csv\" files and create DataFrames\n",
    "df_life_expectancy = pd.read_csv(\"Life_Expectancy.csv\")\n",
    "df_location_codes = pd.read_csv(\"Location_Codes.csv\")\n",
    "\n",
    "# Step 2: Filter data for females in the period 2019\n",
    "df_females_2019 = df_life_expectancy[(df_life_expectancy['Sex'] == 'Female') & (df_life_expectancy['Period'] == '2017-2019')]\n",
    "\n",
    "# Step 3: Map the \"Age group\" using the provided mapping\n",
    "age_group_mapping = {\n",
    "    '01-Apr': 0.5,\n",
    "    '05-Sep': 7,\n",
    "    '15-19': 17,\n",
    "    '20-24': 22,\n",
    "    '25-29': 27,\n",
    "    '30-34': 32,\n",
    "    '35-39': 37,\n",
    "    '40-44': 42,\n",
    "    '45-49': 47,\n",
    "    '50-54': 52,\n",
    "    '55-59': 57,\n",
    "    '60-64': 62,\n",
    "    '65-69': 67,\n",
    "    '70-74': 72,\n",
    "    '75-79': 77,\n",
    "    '80-84': 82,\n",
    "    '85-89': 87,\n",
    "    '90+': 95,\n",
    "    '<1': 0.5,\n",
    "    'Oct-14': (10 + 14) / 2\n",
    "}\n",
    "\n",
    "df_females_2019['Age group'] = df_females_2019['Age group'].map(age_group_mapping)\n",
    "\n",
    "# Step 4: Normalize the input data\n",
    "scaler = StandardScaler()\n",
    "X = df_females_2019[['Age group', 'Life expectancy (LE)']]\n",
    "X_normalized = scaler.fit_transform(X)\n",
    "\n",
    "# Step 5: Merge the DataFrames based on the appropriate columns (e.g., 'Area code' in df_females_2019 and 'Area code' in df_location_codes)\n",
    "df_females_2019 = pd.merge(df_females_2019, df_location_codes, left_on='Area code', right_on='Area code', how='left')\n",
    "\n",
    "# Step 6: Prepare the target data (Stat_code)\n",
    "y = df_females_2019['Stat_code']\n",
    "\n",
    "# Step 7: Split the data into training and test sets (80% training, 20% test)\n",
    "X_train, X_test, y_train, y_test = train_test_split(X_normalized, y, test_size=0.2, random_state=42)\n",
    "\n",
    "# Step 8: Train the SVM classifier\n",
    "svm_classifier = SVC(kernel='linear')\n",
    "svm_classifier.fit(X_train, y_train)\n",
    "\n",
    "# Step 9: Make predictions on the test data\n",
    "y_pred = svm_classifier.predict(X_test)\n",
    "\n",
    "# Step 10: Evaluate the model's performance\n",
    "accuracy = accuracy_score(y_test, y_pred)\n",
    "\n",
    "print(f\"Testing Accuracy: {accuracy}\")\n",
    "\n"
   ]
  },
  {
   "cell_type": "code",
   "execution_count": null,
   "metadata": {},
   "outputs": [],
   "source": []
  },
  {
   "cell_type": "code",
   "execution_count": null,
   "metadata": {},
   "outputs": [],
   "source": []
  },
  {
   "cell_type": "markdown",
   "metadata": {},
   "source": [
    "# Q2(a) \n",
    "Read in the \"Regional_Gross_Disposable_Household_Income.csv\" file. Remove the first two rows. Introduce a column named \"Stat_code\". Define \"Stat_code\" to be the first 3 letters of the \"ITL code\". Remove the \"ITL level\", \"ITL code\" and \"Region name\" columns. Put the column names in string format. Introduce a column called \"Stat_Number\" such that if \"Stat_code\"=\"TLC\" then \"Stat_Number\"=0, if \"Stat_code\"=\"TLD\" then \"Stat_Number\"=1, etc... up to if \"Stat_code\"=\"TLN\" then \"Stat_Number\"=11. (4 marks)"
   ]
  },
  {
   "cell_type": "code",
   "execution_count": 2,
   "metadata": {},
   "outputs": [
    {
     "ename": "ERROR",
     "evalue": "Error in parse(text = x, srcfile = src): <text>:1:8: unexpected symbol\n1: import pandas\n           ^\n",
     "output_type": "error",
     "traceback": [
      "Error in parse(text = x, srcfile = src): <text>:1:8: unexpected symbol\n1: import pandas\n           ^\nTraceback:\n"
     ]
    }
   ],
   "source": [
    "import pandas as pd\n",
    "\n",
    "# Step 1: Read the \"Regional_Gross_Disposable_Household_Income.csv\" file and skip the second and third rows\n",
    "df_income = pd.read_csv(\"Regional_Gross_Disposable_Household_Income.csv\", skiprows=[1, 2])\n",
    "\n",
    "# Continue with the rest of the code based on the actual column names.\n",
    "# If the column name is different from 'ITL code', update the code accordingly.\n",
    "# For example, if the column name is 'Code', you should use df_income['Code'] instead of df_income['ITL code'].\n",
    "\n",
    "# Step 2: Introduce a column named \"Stat_code\" by taking the first 3 letters of the \"ITL code\"\n",
    "df_income['Stat_code'] = df_income['ITL code'].str[:3]\n",
    "\n",
    "# Step 3: Remove the \"ITL level\", \"ITL code\", and \"Region name\" columns\n",
    "df_income = df_income.drop(columns=['ITL level', 'ITL code', 'Region name'])\n",
    "\n",
    "# Step 4: Put the column names in string format\n",
    "df_income.columns = df_income.columns.astype(str)\n",
    "\n",
    "# Step 5: Introduce a column called \"Stat_Number\" based on the \"Stat_code\" values\n",
    "stat_code_mapping = {\n",
    "    'TLC': 0,\n",
    "    'TLD': 1,\n",
    "    'TLE': 2,\n",
    "    'TLF': 3,\n",
    "    'TLG': 4,\n",
    "    'TLH': 5,\n",
    "    'TLI': 6,\n",
    "    'TLJ': 7,\n",
    "    'TLK': 8,\n",
    "    'TLL': 9,\n",
    "    'TLM': 10,\n",
    "    'TLN': 11\n",
    "}\n",
    "df_income['Stat_Number'] = df_income['Stat_code'].map(stat_code_mapping)\n",
    "\n",
    "# Print the resulting DataFrame\n",
    "print(df_income)\n"
   ]
  },
  {
   "cell_type": "code",
   "execution_count": null,
   "metadata": {},
   "outputs": [],
   "source": []
  },
  {
   "cell_type": "code",
   "execution_count": null,
   "metadata": {},
   "outputs": [],
   "source": []
  },
  {
   "cell_type": "markdown",
   "metadata": {},
   "source": [
    "# Q2(b)\n",
    "Using R, plot a graph of the mean Regional Gross Disposable Household Income (RGDHI) for each \"Stat_code\" against time from 1997 to 2020. Using R, plot a graph of the standard deviation of the Regional Gross Disposable Household Income (RGDHI) for each \"Stat_code\" against time from 1997 to 2020. Comment on each graph. (8 marks)"
   ]
  },
  {
   "cell_type": "code",
   "execution_count": 11,
   "metadata": {},
   "outputs": [
    {
     "ename": "SyntaxError",
     "evalue": "invalid syntax (<ipython-input-11-43a3afc940c1>, line 14)",
     "output_type": "error",
     "traceback": [
      "\u001b[1;36m  File \u001b[1;32m\"<ipython-input-11-43a3afc940c1>\"\u001b[1;36m, line \u001b[1;32m14\u001b[0m\n\u001b[1;33m    mean_income <- aggregate(RGDHI ~ Stat_code + Year, df_income, mean, na.rm=TRUE)\u001b[0m\n\u001b[1;37m                                   ^\u001b[0m\n\u001b[1;31mSyntaxError\u001b[0m\u001b[1;31m:\u001b[0m invalid syntax\n"
     ]
    }
   ],
   "source": [
    "# Load required libraries\n",
    "library(ggplot2)\n",
    "\n",
    "# Step 1: Read the \"Regional_Gross_Disposable_Household_Income.csv\" file and skip the second and third rows\n",
    "df_income <- read.csv(\"Regional_Gross_Disposable_Household_Income.csv\", skip = 2)\n",
    "\n",
    "# Check the column names\n",
    "print(names(df_income))\n",
    "\n",
    "# Adjust the column name if needed\n",
    "# For example, if the column name is different, replace 'RGDHI' with the correct column name\n",
    "\n",
    "# Step 2: Calculate the mean and standard deviation of RGDHI for each \"Stat_code\" and Year\n",
    "mean_income <- aggregate(RGDHI ~ Stat_code + Year, df_income, mean, na.rm=TRUE)\n",
    "sd_income <- aggregate(RGDHI ~ Stat_code + Year, df_income, sd, na.rm=TRUE)\n",
    "\n",
    "# Plot the mean RGDHI for each \"Stat_code\" against time using ggplot2\n",
    "plot_mean_income <- ggplot(mean_income, aes(x = Year, y = RGDHI, color = Stat_code)) +\n",
    "  geom_line() +\n",
    "  geom_point() +\n",
    "  labs(title = \"Mean Regional Gross Disposable Household Income\",\n",
    "       x = \"Year\",\n",
    "       y = \"Mean RGDHI\")\n",
    "\n",
    "# Plot the standard deviation of RGDHI for each \"Stat_code\" against time using ggplot2\n",
    "plot_sd_income <- ggplot(sd_income, aes(x = Year, y = RGDHI, color = Stat_code)) +\n",
    "  geom_line() +\n",
    "  geom_point() +\n",
    "  labs(title = \"Standard Deviation of Regional Gross Disposable Household Income\",\n",
    "       x = \"Year\",\n",
    "       y = \"SD RGDHI\")\n",
    "\n",
    "# Display the plots\n",
    "print(plot_mean_income)\n",
    "print(plot_sd_income)"
   ]
  },
  {
   "cell_type": "code",
   "execution_count": null,
   "metadata": {},
   "outputs": [],
   "source": []
  },
  {
   "cell_type": "code",
   "execution_count": null,
   "metadata": {},
   "outputs": [],
   "source": []
  },
  {
   "cell_type": "markdown",
   "metadata": {},
   "source": [
    "# Q2(c)\n",
    "Split the data into (80%) training data and (20%) test data. Use an appropriate linear model from sklearn to predict the \"Stat_code\" using the first 24 columns of data. Test your model using the test data set. Discuss your results including any relevant illustrations. (6 marks)"
   ]
  },
  {
   "cell_type": "code",
   "execution_count": 4,
   "metadata": {},
   "outputs": [
    {
     "name": "stdout",
     "output_type": "stream",
     "text": [
      "Accuracy: 0.0\n"
     ]
    }
   ],
   "source": [
    "import pandas as pd\n",
    "from sklearn.model_selection import train_test_split\n",
    "from sklearn.linear_model import LinearRegression\n",
    "from sklearn.metrics import accuracy_score\n",
    "\n",
    "# Step 1: Read the \"Regional_Gross_Disposable_Household_Income.csv\" file\n",
    "df_income = pd.read_csv(\"Regional_Gross_Disposable_Household_Income.csv\")\n",
    "\n",
    "# Step 2: Prepare the data\n",
    "X = df_income.iloc[:, 3:27]  # Features (first 24 columns)\n",
    "y = df_income['ITL code']    # Target variable\n",
    "\n",
    "# Step 3: Convert \"Stat_code\" to numeric codes (assumes unique values in \"Stat_code\")\n",
    "stat_code_mapping = {code: i for i, code in enumerate(y.unique())}\n",
    "y = y.map(stat_code_mapping)\n",
    "\n",
    "# Step 4: Split the data into training (80%) and test (20%) sets\n",
    "X_train, X_test, y_train, y_test = train_test_split(X, y, test_size=0.2, random_state=42)\n",
    "\n",
    "# Step 5: Create and train the linear regression model\n",
    "model = LinearRegression()\n",
    "model.fit(X_train, y_train)\n",
    "\n",
    "# Step 6: Make predictions on the test data\n",
    "y_pred = model.predict(X_test)\n",
    "\n",
    "# Step 7: Convert predicted numeric codes back to original \"Stat_code\" values\n",
    "y_pred_codes = [code for code, i in stat_code_mapping.items() if i in y_pred]\n",
    "\n",
    "# Step 8: Convert the actual numeric codes in y_test back to original \"Stat_code\" values\n",
    "y_test_codes = [code for code, i in stat_code_mapping.items() if i in y_test]\n",
    "\n",
    "# Step 9: Handle missing values in y_pred_codes\n",
    "missing_codes = set(y_test_codes) - set(y_pred_codes)\n",
    "for code in missing_codes:\n",
    "    y_pred_codes.append(code)\n",
    "\n",
    "# Step 10: Calculate the accuracy of the predictions\n",
    "accuracy = accuracy_score(y_test_codes, y_pred_codes)\n",
    "\n",
    "print(\"Accuracy:\", accuracy)\n"
   ]
  },
  {
   "cell_type": "code",
   "execution_count": null,
   "metadata": {},
   "outputs": [],
   "source": []
  },
  {
   "cell_type": "code",
   "execution_count": null,
   "metadata": {},
   "outputs": [],
   "source": []
  },
  {
   "cell_type": "markdown",
   "metadata": {},
   "source": [
    "# Q2(d)\n",
    "Split the data into (80%) training data and (20%) test data. Using PyTorch predict the \"Stat_Number\" using the first 24 columns of data. Test your model using the test data set. Discuss your results. (6 marks)"
   ]
  },
  {
   "cell_type": "code",
   "execution_count": 5,
   "metadata": {},
   "outputs": [
    {
     "ename": "ModuleNotFoundError",
     "evalue": "No module named 'torch'",
     "output_type": "error",
     "traceback": [
      "\u001b[1;31m---------------------------------------------------------------------------\u001b[0m",
      "\u001b[1;31mModuleNotFoundError\u001b[0m                       Traceback (most recent call last)",
      "\u001b[1;32m<ipython-input-5-7553b0bfa34c>\u001b[0m in \u001b[0;36m<module>\u001b[1;34m\u001b[0m\n\u001b[0;32m      1\u001b[0m \u001b[1;32mimport\u001b[0m \u001b[0mpandas\u001b[0m \u001b[1;32mas\u001b[0m \u001b[0mpd\u001b[0m\u001b[1;33m\u001b[0m\u001b[1;33m\u001b[0m\u001b[0m\n\u001b[1;32m----> 2\u001b[1;33m \u001b[1;32mimport\u001b[0m \u001b[0mtorch\u001b[0m\u001b[1;33m\u001b[0m\u001b[1;33m\u001b[0m\u001b[0m\n\u001b[0m\u001b[0;32m      3\u001b[0m \u001b[1;32mimport\u001b[0m \u001b[0mtorch\u001b[0m\u001b[1;33m.\u001b[0m\u001b[0mnn\u001b[0m \u001b[1;32mas\u001b[0m \u001b[0mnn\u001b[0m\u001b[1;33m\u001b[0m\u001b[1;33m\u001b[0m\u001b[0m\n\u001b[0;32m      4\u001b[0m \u001b[1;32mimport\u001b[0m \u001b[0mtorch\u001b[0m\u001b[1;33m.\u001b[0m\u001b[0moptim\u001b[0m \u001b[1;32mas\u001b[0m \u001b[0moptim\u001b[0m\u001b[1;33m\u001b[0m\u001b[1;33m\u001b[0m\u001b[0m\n\u001b[0;32m      5\u001b[0m \u001b[1;32mfrom\u001b[0m \u001b[0msklearn\u001b[0m\u001b[1;33m.\u001b[0m\u001b[0mmodel_selection\u001b[0m \u001b[1;32mimport\u001b[0m \u001b[0mtrain_test_split\u001b[0m\u001b[1;33m\u001b[0m\u001b[1;33m\u001b[0m\u001b[0m\n",
      "\u001b[1;31mModuleNotFoundError\u001b[0m: No module named 'torch'"
     ]
    }
   ],
   "source": [
    "#USING PYTORCH\n",
    "\n",
    "\n",
    "import pandas as pd\n",
    "import torch\n",
    "import torch.nn as nn\n",
    "import torch.optim as optim\n",
    "from sklearn.model_selection import train_test_split\n",
    "from sklearn.preprocessing import LabelEncoder\n",
    "from sklearn.metrics import accuracy_score\n",
    "\n",
    "# Step 1: Read the \"Regional_Gross_Disposable_Household_Income.csv\" file\n",
    "df_income = pd.read_csv(\"Regional_Gross_Disposable_Household_Income.csv\")\n",
    "\n",
    "# Step 2: Prepare the data\n",
    "X = df_income.iloc[:, 3:27]  # Features (first 24 columns)\n",
    "y = df_income['Stat_Number']  # Target variable\n",
    "\n",
    "# Step 3: Convert categorical labels to numerical labels using LabelEncoder\n",
    "label_encoder = LabelEncoder()\n",
    "y = label_encoder.fit_transform(y)\n",
    "\n",
    "# Step 4: Split the data into training (80%) and test (20%) sets\n",
    "X_train, X_test, y_train, y_test = train_test_split(X, y, test_size=0.2, random_state=42)\n",
    "\n",
    "# Step 5: Convert the data into PyTorch tensors\n",
    "X_train_tensor = torch.tensor(X_train.values, dtype=torch.float32)\n",
    "y_train_tensor = torch.tensor(y_train, dtype=torch.long)\n",
    "X_test_tensor = torch.tensor(X_test.values, dtype=torch.float32)\n",
    "y_test_tensor = torch.tensor(y_test, dtype=torch.long)\n",
    "\n",
    "# Step 6: Define the neural network model\n",
    "class NeuralNetwork(nn.Module):\n",
    "    def __init__(self):\n",
    "        super(NeuralNetwork, self).__init__()\n",
    "        self.fc1 = nn.Linear(24, 64)\n",
    "        self.fc2 = nn.Linear(64, 32)\n",
    "        self.fc3 = nn.Linear(32, 12)  # Output layer with 12 classes (Stat_Number)\n",
    "\n",
    "    def forward(self, x):\n",
    "        x = torch.relu(self.fc1(x))\n",
    "        x = torch.relu(self.fc2(x))\n",
    "        x = self.fc3(x)\n",
    "        return x\n",
    "\n",
    "# Step 7: Create an instance of the neural network model\n",
    "model = NeuralNetwork()\n",
    "\n",
    "# Step 8: Define loss function and optimizer\n",
    "criterion = nn.CrossEntropyLoss()\n",
    "optimizer = optim.Adam(model.parameters(), lr=0.001)\n",
    "\n",
    "# Step 9: Train the model\n",
    "epochs = 100\n",
    "for epoch in range(epochs):\n",
    "    optimizer.zero_grad()\n",
    "    outputs = model(X_train_tensor)\n",
    "    loss = criterion(outputs, y_train_tensor)\n",
    "    loss.backward()\n",
    "    optimizer.step()\n",
    "\n",
    "# Step 10: Evaluate the model on the test data\n",
    "model.eval()\n",
    "with torch.no_grad():\n",
    "    outputs = model(X_test_tensor)\n",
    "    _, predicted = torch.max(outputs, 1)\n",
    "\n",
    "# Step 11: Convert the predicted numerical labels back to original \"Stat_Number\" values\n",
    "y_pred = label_encoder.inverse_transform(predicted)\n",
    "\n",
    "# Step 12: Calculate the accuracy of the predictions\n",
    "accuracy = accuracy_score(y_test, y_pred)\n",
    "\n",
    "print(\"Accuracy:\", accuracy)\n"
   ]
  },
  {
   "cell_type": "code",
   "execution_count": null,
   "metadata": {},
   "outputs": [],
   "source": []
  },
  {
   "cell_type": "code",
   "execution_count": null,
   "metadata": {},
   "outputs": [],
   "source": []
  },
  {
   "cell_type": "markdown",
   "metadata": {},
   "source": [
    "# Q2(e)\n",
    "Create a new data frame containing the mean value of the \"Expected_Age\" and the mean value of \"RGDHI\" for each \"Stat_code\" and \"Period\". The new dataframe should have 216 rows and 4 columns. (6 marks)"
   ]
  },
  {
   "cell_type": "code",
   "execution_count": 10,
   "metadata": {},
   "outputs": [
    {
     "ename": "KeyError",
     "evalue": "'Stat_code'",
     "output_type": "error",
     "traceback": [
      "\u001b[1;31m---------------------------------------------------------------------------\u001b[0m",
      "\u001b[1;31mKeyError\u001b[0m                                  Traceback (most recent call last)",
      "\u001b[1;32m<ipython-input-10-33f81f5ea7cf>\u001b[0m in \u001b[0;36m<module>\u001b[1;34m\u001b[0m\n\u001b[0;32m      5\u001b[0m \u001b[1;33m\u001b[0m\u001b[0m\n\u001b[0;32m      6\u001b[0m \u001b[1;31m# Step 1: Calculate the mean value of \"Expected_Age\" and \"RGDHI\" for each \"Stat_code\" and \"Period\"\u001b[0m\u001b[1;33m\u001b[0m\u001b[1;33m\u001b[0m\u001b[1;33m\u001b[0m\u001b[0m\n\u001b[1;32m----> 7\u001b[1;33m df_means = df_income.groupby(['Stat_code', 'Period']).agg({\n\u001b[0m\u001b[0;32m      8\u001b[0m     \u001b[1;34m'Expected_Age'\u001b[0m\u001b[1;33m:\u001b[0m \u001b[1;34m'mean'\u001b[0m\u001b[1;33m,\u001b[0m\u001b[1;33m\u001b[0m\u001b[1;33m\u001b[0m\u001b[0m\n\u001b[0;32m      9\u001b[0m     \u001b[1;34m'RGDHI'\u001b[0m\u001b[1;33m:\u001b[0m \u001b[1;34m'mean'\u001b[0m\u001b[1;33m\u001b[0m\u001b[1;33m\u001b[0m\u001b[0m\n",
      "\u001b[1;32m~\\anaconda3\\lib\\site-packages\\pandas\\core\\frame.py\u001b[0m in \u001b[0;36mgroupby\u001b[1;34m(self, by, axis, level, as_index, sort, group_keys, squeeze, observed, dropna)\u001b[0m\n\u001b[0;32m   6509\u001b[0m         \u001b[0maxis\u001b[0m \u001b[1;33m=\u001b[0m \u001b[0mself\u001b[0m\u001b[1;33m.\u001b[0m\u001b[0m_get_axis_number\u001b[0m\u001b[1;33m(\u001b[0m\u001b[0maxis\u001b[0m\u001b[1;33m)\u001b[0m\u001b[1;33m\u001b[0m\u001b[1;33m\u001b[0m\u001b[0m\n\u001b[0;32m   6510\u001b[0m \u001b[1;33m\u001b[0m\u001b[0m\n\u001b[1;32m-> 6511\u001b[1;33m         return DataFrameGroupBy(\n\u001b[0m\u001b[0;32m   6512\u001b[0m             \u001b[0mobj\u001b[0m\u001b[1;33m=\u001b[0m\u001b[0mself\u001b[0m\u001b[1;33m,\u001b[0m\u001b[1;33m\u001b[0m\u001b[1;33m\u001b[0m\u001b[0m\n\u001b[0;32m   6513\u001b[0m             \u001b[0mkeys\u001b[0m\u001b[1;33m=\u001b[0m\u001b[0mby\u001b[0m\u001b[1;33m,\u001b[0m\u001b[1;33m\u001b[0m\u001b[1;33m\u001b[0m\u001b[0m\n",
      "\u001b[1;32m~\\anaconda3\\lib\\site-packages\\pandas\\core\\groupby\\groupby.py\u001b[0m in \u001b[0;36m__init__\u001b[1;34m(self, obj, keys, axis, level, grouper, exclusions, selection, as_index, sort, group_keys, squeeze, observed, mutated, dropna)\u001b[0m\n\u001b[0;32m    523\u001b[0m             \u001b[1;32mfrom\u001b[0m \u001b[0mpandas\u001b[0m\u001b[1;33m.\u001b[0m\u001b[0mcore\u001b[0m\u001b[1;33m.\u001b[0m\u001b[0mgroupby\u001b[0m\u001b[1;33m.\u001b[0m\u001b[0mgrouper\u001b[0m \u001b[1;32mimport\u001b[0m \u001b[0mget_grouper\u001b[0m\u001b[1;33m\u001b[0m\u001b[1;33m\u001b[0m\u001b[0m\n\u001b[0;32m    524\u001b[0m \u001b[1;33m\u001b[0m\u001b[0m\n\u001b[1;32m--> 525\u001b[1;33m             grouper, exclusions, obj = get_grouper(\n\u001b[0m\u001b[0;32m    526\u001b[0m                 \u001b[0mobj\u001b[0m\u001b[1;33m,\u001b[0m\u001b[1;33m\u001b[0m\u001b[1;33m\u001b[0m\u001b[0m\n\u001b[0;32m    527\u001b[0m                 \u001b[0mkeys\u001b[0m\u001b[1;33m,\u001b[0m\u001b[1;33m\u001b[0m\u001b[1;33m\u001b[0m\u001b[0m\n",
      "\u001b[1;32m~\\anaconda3\\lib\\site-packages\\pandas\\core\\groupby\\grouper.py\u001b[0m in \u001b[0;36mget_grouper\u001b[1;34m(obj, key, axis, level, sort, observed, mutated, validate, dropna)\u001b[0m\n\u001b[0;32m    779\u001b[0m                 \u001b[0min_axis\u001b[0m\u001b[1;33m,\u001b[0m \u001b[0mname\u001b[0m\u001b[1;33m,\u001b[0m \u001b[0mlevel\u001b[0m\u001b[1;33m,\u001b[0m \u001b[0mgpr\u001b[0m \u001b[1;33m=\u001b[0m \u001b[1;32mFalse\u001b[0m\u001b[1;33m,\u001b[0m \u001b[1;32mNone\u001b[0m\u001b[1;33m,\u001b[0m \u001b[0mgpr\u001b[0m\u001b[1;33m,\u001b[0m \u001b[1;32mNone\u001b[0m\u001b[1;33m\u001b[0m\u001b[1;33m\u001b[0m\u001b[0m\n\u001b[0;32m    780\u001b[0m             \u001b[1;32melse\u001b[0m\u001b[1;33m:\u001b[0m\u001b[1;33m\u001b[0m\u001b[1;33m\u001b[0m\u001b[0m\n\u001b[1;32m--> 781\u001b[1;33m                 \u001b[1;32mraise\u001b[0m \u001b[0mKeyError\u001b[0m\u001b[1;33m(\u001b[0m\u001b[0mgpr\u001b[0m\u001b[1;33m)\u001b[0m\u001b[1;33m\u001b[0m\u001b[1;33m\u001b[0m\u001b[0m\n\u001b[0m\u001b[0;32m    782\u001b[0m         \u001b[1;32melif\u001b[0m \u001b[0misinstance\u001b[0m\u001b[1;33m(\u001b[0m\u001b[0mgpr\u001b[0m\u001b[1;33m,\u001b[0m \u001b[0mGrouper\u001b[0m\u001b[1;33m)\u001b[0m \u001b[1;32mand\u001b[0m \u001b[0mgpr\u001b[0m\u001b[1;33m.\u001b[0m\u001b[0mkey\u001b[0m \u001b[1;32mis\u001b[0m \u001b[1;32mnot\u001b[0m \u001b[1;32mNone\u001b[0m\u001b[1;33m:\u001b[0m\u001b[1;33m\u001b[0m\u001b[1;33m\u001b[0m\u001b[0m\n\u001b[0;32m    783\u001b[0m             \u001b[1;31m# Add key to exclusions\u001b[0m\u001b[1;33m\u001b[0m\u001b[1;33m\u001b[0m\u001b[1;33m\u001b[0m\u001b[0m\n",
      "\u001b[1;31mKeyError\u001b[0m: 'Stat_code'"
     ]
    }
   ],
   "source": [
    "import pandas as pd\n",
    "\n",
    "# Assuming you have already loaded the data into a DataFrame named 'df_income'\n",
    "\n",
    "\n",
    "# Step 1: Calculate the mean value of \"Expected_Age\" and \"RGDHI\" for each \"Stat_code\" and \"Period\"\n",
    "df_means = df_income.groupby(['Stat_code', 'Period']).agg({\n",
    "    'Expected_Age': 'mean',\n",
    "    'RGDHI': 'mean'\n",
    "}).reset_index()\n",
    "\n",
    "# Step 2: Rename the columns to desired names\n",
    "df_means.columns = ['Stat_code', 'Period', 'Mean_Expected_Age', 'Mean_RGDHI']\n",
    "\n",
    "# Step 3: Verify the shape of the new DataFrame\n",
    "print(df_means.shape)  # It should have 216 rows and 4 columns\n",
    "\n",
    "# Step 4: Print the new DataFrame\n",
    "print(df_means)"
   ]
  },
  {
   "cell_type": "code",
   "execution_count": null,
   "metadata": {},
   "outputs": [],
   "source": []
  },
  {
   "cell_type": "code",
   "execution_count": null,
   "metadata": {},
   "outputs": [],
   "source": []
  },
  {
   "cell_type": "markdown",
   "metadata": {},
   "source": [
    "# Q2(f)\n",
    "Split the data into (80%) training data and (20%) test data. Use an appropriate linear model from sklearn to predict the \"Stat_code\" using the \"Period\", \"RGDHI\" and \"Expected_Age\". Test your model using the test data set. Discuss your results including any relevant illustrations. (4 marks)"
   ]
  },
  {
   "cell_type": "code",
   "execution_count": null,
   "metadata": {},
   "outputs": [],
   "source": []
  },
  {
   "cell_type": "code",
   "execution_count": null,
   "metadata": {},
   "outputs": [],
   "source": []
  },
  {
   "cell_type": "code",
   "execution_count": null,
   "metadata": {},
   "outputs": [],
   "source": []
  },
  {
   "cell_type": "markdown",
   "metadata": {},
   "source": [
    "# Q2(g)\n",
    "Split the data into (80%) training data and (20%) test data. Using PyTorch predict the \"Stat_Number\" using the \"Period\", \"RGDHI\" and \"Expected_Age\". Test your model using the test data set. Discuss your results. (6 marks)"
   ]
  },
  {
   "cell_type": "code",
   "execution_count": null,
   "metadata": {},
   "outputs": [],
   "source": []
  },
  {
   "cell_type": "code",
   "execution_count": null,
   "metadata": {},
   "outputs": [],
   "source": []
  },
  {
   "cell_type": "code",
   "execution_count": null,
   "metadata": {},
   "outputs": [],
   "source": []
  }
 ],
 "metadata": {
  "kernelspec": {
   "display_name": "Python 3",
   "language": "python",
   "name": "python3"
  },
  "language_info": {
   "codemirror_mode": {
    "name": "ipython",
    "version": 3
   },
   "file_extension": ".py",
   "mimetype": "text/x-python",
   "name": "python",
   "nbconvert_exporter": "python",
   "pygments_lexer": "ipython3",
   "version": "3.8.5"
  }
 },
 "nbformat": 4,
 "nbformat_minor": 2
}
