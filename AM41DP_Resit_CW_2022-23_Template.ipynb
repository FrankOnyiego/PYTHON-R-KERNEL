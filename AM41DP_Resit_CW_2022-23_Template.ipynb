{
 "cells": [
  {
   "cell_type": "markdown",
   "metadata": {},
   "source": [
    "# Resit CW - Solutions"
   ]
  },
  {
   "cell_type": "markdown",
   "metadata": {},
   "source": [
    "# Q1(a) \n",
    "Read in the \"Life_Expectancy.csv\" file to create a dataframe. Remove the rows that satisfy \"Area type\" is \"Combined Authority\", \"County\", \"Country\" or \"Regions\". Then remove the columns named \"Area type\", \"Area name\", \"Country\", \"LE lower confidence interval\" and \"LE upper confidence interval\". Change all the values in the \"Period\" column to the midpoint of the year range given, for example change \"2001-2003\" to 2002, \"2002-2004\" to 2003, etc... Change the values in the \"Age group\" column so that if ageband is 1 then \"Age group\" is 0.5, if \"Ageband\" is 2 then \"Age group\" is 2.5, and if \"Ageband\" is 3 or more then \"Age group\" is -8 + 5 times the \"Ageband\". (5 marks)"
   ]
  },
  {
   "cell_type": "code",
   "execution_count": 1,
   "metadata": {},
   "outputs": [
    {
     "name": "stdout",
     "output_type": "stream",
     "text": [
      "        Period  Area code  Sex_code     Sex  Ageband  Age group  \\\n",
      "0         2002  E06000001         1    Male        1        0.5   \n",
      "1         2002  E06000002         1    Male        1        0.5   \n",
      "2         2002  E06000003         1    Male        1        0.5   \n",
      "3         2002  E06000004         1    Male        1        0.5   \n",
      "4         2002  E06000005         1    Male        1        0.5   \n",
      "...        ...        ...       ...     ...      ...        ...   \n",
      "311034    2019  W11000025         2  Female       20       92.0   \n",
      "311035    2019  W11000028         2  Female       20       92.0   \n",
      "311036    2019  W11000029         2  Female       20       92.0   \n",
      "311037    2019  W11000030         2  Female       20       92.0   \n",
      "311038    2019  W11000031         2  Female       20       92.0   \n",
      "\n",
      "        Life expectancy (LE)  \n",
      "0                      73.42  \n",
      "1                      73.68  \n",
      "2                      75.13  \n",
      "3                      75.28  \n",
      "4                      74.80  \n",
      "...                      ...  \n",
      "311034                  4.82  \n",
      "311035                  4.41  \n",
      "311036                  4.67  \n",
      "311037                  3.89  \n",
      "311038                  4.27  \n",
      "\n",
      "[283680 rows x 7 columns]\n"
     ]
    }
   ],
   "source": [
    "import pandas as pd\n",
    "\n",
    "# Step 1: Read the Life_Expectancy.csv file and create a dataframe\n",
    "df = pd.read_csv(\"Life_Expectancy.csv\")\n",
    "\n",
    "# Step 2: Remove rows with Area type as \"Combined Authority\", \"County\", \"Country\", or \"Regions\"\n",
    "area_types_to_remove = [\"Combined Authority\", \"County\", \"Country\", \"Regions\"]\n",
    "df = df[~df[\"Area type\"].isin(area_types_to_remove)]\n",
    "\n",
    "# Step 3: Remove unnecessary columns\n",
    "columns_to_remove = [\"Area type\", \"Area name\", \"Country\", \"LE lower confidence interval\", \"LE upper confidence interval\"]\n",
    "df.drop(columns=columns_to_remove, inplace=True)\n",
    "\n",
    "# Step 4: Convert values in the \"Period\" column to the midpoint of the year range\n",
    "df[\"Period\"] = df[\"Period\"].apply(lambda x: int(x[:4]) + 1)\n",
    "\n",
    "# Step 5: Convert values in the \"Age group\" column based on the \"Ageband\"\n",
    "def age_group_conversion(ageband):\n",
    "    if ageband == 1:\n",
    "        return 0.5\n",
    "    elif ageband == 2:\n",
    "        return 2.5\n",
    "    else:\n",
    "        return -8 + 5 * ageband\n",
    "\n",
    "df[\"Age group\"] = df[\"Ageband\"].apply(age_group_conversion)\n",
    "\n",
    "# Display the modified dataframe\n",
    "print(df)\n"
   ]
  },
  {
   "cell_type": "code",
   "execution_count": 5,
   "metadata": {},
   "outputs": [],
   "source": []
  },
  {
   "cell_type": "code",
   "execution_count": null,
   "metadata": {},
   "outputs": [],
   "source": []
  },
  {
   "cell_type": "markdown",
   "metadata": {},
   "source": [
    "# Q1(b) \n",
    "Create a new column called \"Expected_Age\" using the sum of \"Life expectancy (LE)\" and \"Age group\". Using Matplotlib create a bar chart showing the mean \"Expected_Age\" of males in 2019 against \"Age group\" and the mean \"Expected_Age\" of females in 2019 against \"Age group\". Discuss your plot. (4 marks)"
   ]
  },
  {
   "cell_type": "code",
   "execution_count": 2,
   "metadata": {},
   "outputs": [
    {
     "name": "stderr",
     "output_type": "stream",
     "text": [
      "Matplotlib is building the font cache; this may take a moment.\n"
     ]
    },
    {
     "data": {
      "image/png": "[encoded data removed]",
      "text/plain": [
       "<Figure size 1000x600 with 1 Axes>"
      ]
     },
     "metadata": {},
     "output_type": "display_data"
    }
   ],
   "source": [
    "import pandas as pd\n",
    "import matplotlib.pyplot as plt\n",
    "\n",
    "# Step 1: Read the \"Life_Expectancy.csv\" file and create a dataframe\n",
    "df = pd.read_csv(\"Life_Expectancy.csv\")\n",
    "\n",
    "# Step 2: Calculate the \"Expected_Age\" by summing \"Life expectancy (LE)\" and \"Age group\"\n",
    "# Convert \"Age group\" to numeric\n",
    "df[\"Age group\"] = df[\"Age group\"].str.extract(r'(\\d+\\.?\\d*)').astype(float)\n",
    "df[\"Expected_Age\"] = df[\"Life expectancy (LE)\"] + df[\"Age group\"]\n",
    "\n",
    "# Step 3: Filter data for the year 2019 and separate by sex (Male and Female)\n",
    "df_2019 = df[df[\"Period\"] == 2019]\n",
    "\n",
    "# Calculate the mean \"Expected_Age\" for each \"Age group\" for both Male and Female categories\n",
    "mean_expected_age_male = df_2019[df_2019[\"Sex\"] == \"Male\"].groupby(\"Age group\")[\"Expected_Age\"].mean()\n",
    "mean_expected_age_female = df_2019[df_2019[\"Sex\"] == \"Female\"].groupby(\"Age group\")[\"Expected_Age\"].mean()\n",
    "\n",
    "# Step 4: Create a bar chart using Matplotlib\n",
    "plt.figure(figsize=(10, 6))\n",
    "plt.bar(mean_expected_age_male.index, mean_expected_age_male, label=\"Male\", width=0.4, align=\"center\", alpha=0.8)\n",
    "plt.bar(mean_expected_age_female.index + 0.4, mean_expected_age_female, label=\"Female\", width=0.4, align=\"center\", alpha=0.8)\n",
    "\n",
    "# Set plot details\n",
    "plt.xlabel(\"Age group\")\n",
    "plt.ylabel(\"Mean Expected_Age\")\n",
    "plt.title(\"Mean Expected_Age of Males and Females in 2019\")\n",
    "plt.xticks(mean_expected_age_male.index + 0.2, mean_expected_age_male.index)\n",
    "plt.legend()\n",
    "\n",
    "# Show the plot\n",
    "plt.show()\n"
   ]
  },
  {
   "cell_type": "code",
   "execution_count": null,
   "metadata": {},
   "outputs": [],
   "source": []
  },
  {
   "cell_type": "code",
   "execution_count": null,
   "metadata": {},
   "outputs": [],
   "source": []
  },
  {
   "cell_type": "markdown",
   "metadata": {},
   "source": [
    "# Q1(c) \n",
    "Read in the \"Location_Codes.csv\" file. Create a new column named \"Stat_code\". \n",
    "Use the information in this csv file and the codes in the \"Area code\" column \n",
    "to define the values in the \"Stat_code\" column between \"TLC\" and \"TLN\" \n",
    "appropriately. (2 marks)"
   ]
  },
  {
   "cell_type": "code",
   "execution_count": 92,
   "metadata": {},
   "outputs": [
    {
     "name": "stdout",
     "output_type": "stream",
     "text": [
      "           Period  Country            Area type  Area code  \\\n",
      "0       2001-2003  England          Local Areas  E06000001   \n",
      "1       2001-2003  England          Local Areas  E06000002   \n",
      "2       2001-2003  England          Local Areas  E06000003   \n",
      "3       2001-2003  England          Local Areas  E06000004   \n",
      "4       2001-2003  England          Local Areas  E06000005   \n",
      "...           ...      ...                  ...        ...   \n",
      "311035  2018-2020    Wales  Welsh Health Boards  W11000028   \n",
      "311036  2018-2020    Wales  Welsh Health Boards  W11000029   \n",
      "311037  2018-2020    Wales  Welsh Health Boards  W11000030   \n",
      "311038  2018-2020    Wales  Welsh Health Boards  W11000031   \n",
      "311039  2018-2020    Wales              Country  W92000004   \n",
      "\n",
      "                                                Area name  Sex_code     Sex  \\\n",
      "0                                              Hartlepool         1    Male   \n",
      "1                                           Middlesbrough         1    Male   \n",
      "2                                    Redcar and Cleveland         1    Male   \n",
      "3                                        Stockton-on-Tees         1    Male   \n",
      "4                                              Darlington         1    Male   \n",
      "...                                                   ...       ...     ...   \n",
      "311035  Aneurin Bevan University Health Board/ Bwrdd I...         2  Female   \n",
      "311036  Cardiff and Vale University Health Board/ Bwrd...         2  Female   \n",
      "311037  Cwm Taf Morgannwg University Health Board/ Bwr...         2  Female   \n",
      "311038  Swansea Bay University Health Board/ Bwrdd Iec...         2  Female   \n",
      "311039                                              Wales         2  Female   \n",
      "\n",
      "        Ageband Age group  Life expectancy (LE)  ...        TLE        TLF  \\\n",
      "0             1        <1                 73.42  ...  E06000010  E06000015   \n",
      "1             1        <1                 73.68  ...  E06000011  E06000016   \n",
      "2             1        <1                 75.13  ...  E06000012  E06000017   \n",
      "3             1        <1                 75.28  ...  E06000013  E06000018   \n",
      "4             1        <1                 74.80  ...  E06000014  E06000061   \n",
      "...         ...       ...                   ...  ...        ...        ...   \n",
      "311035       20       90+                  4.41  ...        NaN        NaN   \n",
      "311036       20       90+                  4.67  ...        NaN        NaN   \n",
      "311037       20       90+                  3.89  ...        NaN        NaN   \n",
      "311038       20       90+                  4.27  ...        NaN        NaN   \n",
      "311039       20       90+                  4.47  ...        NaN        NaN   \n",
      "\n",
      "              TLG        TLH        TLI        TLJ        TLK        TLL  \\\n",
      "0       E06000019  E06000031  E09000002  E06000035  E06000022  W06000001   \n",
      "1       E06000020  E06000032  E09000003  E06000036  E06000023  W06000002   \n",
      "2       E06000021  E06000033  E09000004  E06000037  E06000024  W06000003   \n",
      "3       E06000051  E06000034  E09000005  E06000038  E06000025  W06000004   \n",
      "4       E07000095  E06000055  E09000006  E06000039  E06000026  W06000005   \n",
      "...           ...        ...        ...        ...        ...        ...   \n",
      "311035        NaN        NaN        NaN        NaN        NaN        NaN   \n",
      "311036        NaN        NaN        NaN        NaN        NaN        NaN   \n",
      "311037        NaN        NaN        NaN        NaN        NaN        NaN   \n",
      "311038        NaN        NaN        NaN        NaN        NaN        NaN   \n",
      "311039        NaN        NaN        NaN        NaN        NaN        NaN   \n",
      "\n",
      "              TLM        TLN  \n",
      "0       S12000005  N09000001  \n",
      "1       S12000006  N09000002  \n",
      "2       S12000008  N09000003  \n",
      "3       S12000010  N09000004  \n",
      "4       S12000011  N09000005  \n",
      "...           ...        ...  \n",
      "311035        NaN        NaN  \n",
      "311036        NaN        NaN  \n",
      "311037        NaN        NaN  \n",
      "311038        NaN        NaN  \n",
      "311039        NaN        NaN  \n",
      "\n",
      "[311040 rows x 25 columns]\n",
      "      Period  Country    Area type  Area code             Area name  Sex_code  \\\n",
      "0  2001-2003  England  Local Areas  E06000001            Hartlepool         1   \n",
      "1  2001-2003  England  Local Areas  E06000002         Middlesbrough         1   \n",
      "2  2001-2003  England  Local Areas  E06000003  Redcar and Cleveland         1   \n",
      "3  2001-2003  England  Local Areas  E06000004      Stockton-on-Tees         1   \n",
      "4  2001-2003  England  Local Areas  E06000005            Darlington         1   \n",
      "\n",
      "    Sex  Ageband Age group  Life expectancy (LE)  \\\n",
      "0  Male        1        <1                 73.42   \n",
      "1  Male        1        <1                 73.68   \n",
      "2  Male        1        <1                 75.13   \n",
      "3  Male        1        <1                 75.28   \n",
      "4  Male        1        <1                 74.80   \n",
      "\n",
      "   LE lower confidence interval  LE upper confidence interval Stat_code  \\\n",
      "0                         72.68                         74.16       NaN   \n",
      "1                         73.05                         74.32       NaN   \n",
      "2                         74.54                         75.72       NaN   \n",
      "3                         74.76                         75.79       NaN   \n",
      "4                         74.10                         75.50       NaN   \n",
      "\n",
      "   Stat_code  \n",
      "0  N09000001  \n",
      "1  N09000002  \n",
      "2  N09000003  \n",
      "3  N09000004  \n",
      "4  N09000005  \n"
     ]
    }
   ],
   "source": [
    "import pandas as pd\n",
    "\n",
    "# Step 1: Read the \"Life_Expectancy.csv\" file and create a dataframe\n",
    "df_life_expectancy = pd.read_csv(\"Life_Expectancy.csv\")\n",
    "\n",
    "# Step 2: Read the \"Location_Codes.csv\" file and create a dataframe\n",
    "df_location_codes = pd.read_csv(\"Location_Codes.csv\", sep=\"\\t\")\n",
    "\n",
    "# Step 3: Merge the dataframes using the \"Area code\" column to add the \"Stat_code\" column\n",
    "df_life_expectancy = df_life_expectancy.merge(df_location_codes, left_on=\"Area code\", right_on=\"TLC\", how=\"left\")\n",
    "print(df_life_expectancy)\n",
    "\n",
    "\n",
    "# Step 4: Drop unnecessary columns from the merged dataframe\n",
    "df_life_expectancy.drop(columns=[\"TLC\", \"TLD\", \"TLE\", \"TLF\", \"TLG\", \"TLH\", \"TLI\", \"TLJ\", \"TLK\", \"TLL\", \"TLM\"], inplace=True)\n",
    "\n",
    "# Step 5: Rename the column to \"Stat_code\"\n",
    "df_life_expectancy.rename(columns={\"TLN\": \"Stat_code\"}, inplace=True)\n",
    "\n",
    "# Display the updated dataframe\n",
    "print(df_life_expectancy.head())\n"
   ]
  },
  {
   "cell_type": "code",
   "execution_count": null,
   "metadata": {},
   "outputs": [],
   "source": []
  },
  {
   "cell_type": "code",
   "execution_count": null,
   "metadata": {},
   "outputs": [],
   "source": []
  },
  {
   "cell_type": "markdown",
   "metadata": {},
   "source": [
    "# Q1(d) \n",
    "Introduce a column called \"Stat_Number\" such that if \"Stat_code\"=\"TLC\" then \"Stat_Number\"=0, \n",
    "if \"Stat_code\"=\"TLD\" then \"Stat_Number\"=1, etc... up to if \"Stat_code\"=\"TLN\" then \"Stat_Number\"=11. \n",
    "Then create a barchart of the average life expectancy of males in ageband 20 against \"Stat_Number\" and the average life expectancy of females in ageband 20 against \"Stat_Number\". Discuss any relevant features. Create a scatter plot to show the mean life expectancy of males in ageband 1 against period and the mean life expectancy of females in ageband 1 against period. Discuss your plot. Create a histogram showing the mean life expectancy of males in 2019 against ageband and the mean life expectancy of females in 2019 against ageband. Discuss your plot. (10 marks)"
   ]
  },
  {
   "cell_type": "code",
   "execution_count": 59,
   "metadata": {},
   "outputs": [
    {
     "data": {
      "image/png": "[encoded data removed]",
      "text/plain": [
       "<Figure size 720x432 with 1 Axes>"
      ]
     },
     "metadata": {
      "needs_background": "light"
     },
     "output_type": "display_data"
    },
    {
     "data": {
      "image/png": "[encoded data removed]",
      "text/plain": [
       "<Figure size 720x432 with 1 Axes>"
      ]
     },
     "metadata": {
      "needs_background": "light"
     },
     "output_type": "display_data"
    },
    {
     "data": {
      "image/png": "[encoded data removed]",
      "text/plain": [
       "<Figure size 720x432 with 1 Axes>"
      ]
     },
     "metadata": {
      "needs_background": "light"
     },
     "output_type": "display_data"
    }
   ],
   "source": [
    "import pandas as pd\n",
    "import matplotlib.pyplot as plt\n",
    "\n",
    "# Step 1: Read the \"Life_Expectancy.csv\" file and create a dataframe\n",
    "df_life_expectancy = pd.read_csv(\"Life_Expectancy.csv\")\n",
    "\n",
    "# Step 2: Read the \"Location_Codes.csv\" file and create a dataframe with tab separator\n",
    "df_location_codes = pd.read_csv(\"Location_Codes.csv\", sep=\"\\t\")\n",
    "\n",
    "# Step 3: Merge the dataframes using the \"Area code\" column to add the \"Stat_code\" column\n",
    "df_life_expectancy = df_life_expectancy.merge(df_location_codes, left_on=\"Area code\", right_on=\"TLC\", how=\"left\")\n",
    "\n",
    "# Step 4: Introduce the \"Stat_Number\" column based on \"Stat_code\"\n",
    "stat_mapping = {\n",
    "    \"TLC\": 0,\n",
    "    \"TLD\": 1,\n",
    "    \"TLE\": 2,\n",
    "    \"TLF\": 3,\n",
    "    \"TLG\": 4,\n",
    "    \"TLH\": 5,\n",
    "    \"TLI\": 6,\n",
    "    \"TLJ\": 7,\n",
    "    \"TLK\": 8,\n",
    "    \"TLL\": 9,\n",
    "    \"TLM\": 10,\n",
    "    \"TLN\": 11\n",
    "}\n",
    "df_life_expectancy[\"Stat_Number\"] = df_life_expectancy[\"Stat_code\"].map(stat_mapping)\n",
    "\n",
    "# Step 5: Create a bar chart for average life expectancy of males and females in ageband 20 against \"Stat_Number\"\n",
    "df_ageband_20 = df_life_expectancy[df_life_expectancy[\"Ageband\"] == 20]\n",
    "mean_le_male = df_ageband_20[df_ageband_20[\"Sex\"] == \"Male\"].groupby(\"Stat_Number\")[\"Life expectancy (LE)\"].mean()\n",
    "mean_le_female = df_ageband_20[df_ageband_20[\"Sex\"] == \"Female\"].groupby(\"Stat_Number\")[\"Life expectancy (LE)\"].mean()\n",
    "\n",
    "plt.figure(figsize=(10, 6))\n",
    "plt.bar(mean_le_male.index, mean_le_male, label=\"Male\", width=0.4, align=\"center\", alpha=0.8)\n",
    "plt.bar(mean_le_female.index + 0.4, mean_le_female, label=\"Female\", width=0.4, align=\"center\", alpha=0.8)\n",
    "\n",
    "# Set plot details\n",
    "plt.xlabel(\"Stat_Number\")\n",
    "plt.ylabel(\"Average Life Expectancy\")\n",
    "plt.title(\"Average Life Expectancy of Males and Females in Ageband 20\")\n",
    "plt.xticks(mean_le_male.index + 0.2, mean_le_male.index)\n",
    "plt.legend()\n",
    "\n",
    "# Show the plot\n",
    "plt.show()\n",
    "\n",
    "# Step 6: Create a scatter plot to show the mean life expectancy of males and females in ageband 1 against \"Period\"\n",
    "df_ageband_1 = df_life_expectancy[df_life_expectancy[\"Ageband\"] == 1]\n",
    "mean_le_ageband_1_male = df_ageband_1[df_ageband_1[\"Sex\"] == \"Male\"].groupby(\"Period\")[\"Life expectancy (LE)\"].mean()\n",
    "mean_le_ageband_1_female = df_ageband_1[df_ageband_1[\"Sex\"] == \"Female\"].groupby(\"Period\")[\"Life expectancy (LE)\"].mean()\n",
    "\n",
    "plt.figure(figsize=(10, 6))\n",
    "plt.scatter(mean_le_ageband_1_male.index, mean_le_ageband_1_male, label=\"Male\", marker=\"o\")\n",
    "plt.scatter(mean_le_ageband_1_female.index, mean_le_ageband_1_female, label=\"Female\", marker=\"x\")\n",
    "\n",
    "# Set plot details\n",
    "plt.xlabel(\"Period\")\n",
    "plt.ylabel(\"Mean Life Expectancy\")\n",
    "plt.title(\"Mean Life Expectancy of Males and Females in Ageband 1\")\n",
    "plt.legend()\n",
    "\n",
    "# Show the plot\n",
    "plt.show()\n",
    "\n",
    "# Step 7: Create a histogram showing the mean life expectancy of males and females in 2019 against ageband\n",
    "df_2019 = df_life_expectancy[df_life_expectancy[\"Period\"] == 2019]\n",
    "mean_le_2019_male = df_2019[df_2019[\"Sex\"] == \"Male\"].groupby(\"Ageband\")[\"Life expectancy (LE)\"].mean()\n",
    "mean_le_2019_female = df_2019[df_2019[\"Sex\"] == \"Female\"].groupby(\"Ageband\")[\"Life expectancy (LE)\"].mean()\n",
    "\n",
    "\n",
    "plt.figure(figsize=(10, 6))\n",
    "plt.hist(df_2019[df_2019[\"Sex\"] == \"Male\"][\"Life expectancy (LE)\"], bins=10, alpha=0.7, label=\"Male\", color=\"blue\")\n",
    "plt.hist(df_2019[df_2019[\"Sex\"] == \"Female\"][\"Life expectancy (LE)\"], bins=10, alpha=0.7, label=\"Female\", color=\"red\")\n",
    "\n",
    "# Set plot details\n",
    "plt.xlabel(\"Ageband\")\n",
    "plt.ylabel(\"Mean Life Expectancy\")\n",
    "plt.title(\"Mean Life Expectancy of Males and Females in 2019\")\n",
    "plt.legend()\n",
    "\n",
    "# Show the plot\n",
    "plt.show()\n"
   ]
  },
  {
   "cell_type": "code",
   "execution_count": null,
   "metadata": {},
   "outputs": [],
   "source": []
  },
  {
   "cell_type": "code",
   "execution_count": null,
   "metadata": {},
   "outputs": [],
   "source": []
  },
  {
   "cell_type": "markdown",
   "metadata": {},
   "source": [
    "# Q1(e)\n",
    "Split the data into (80%) training data and (20%) test data. Use an appropriate linear model from sklearn to predict the \"Expected age\" using the variables: 'Period', 'Sex code' and 'Age group'. Test your model using the test data set. Discuss your results including any relevant figures. (5 marks)"
   ]
  },
  {
   "cell_type": "code",
   "execution_count": 75,
   "metadata": {
    "scrolled": true
   },
   "outputs": [
    {
     "name": "stdout",
     "output_type": "stream",
     "text": [
      "Mean Squared Error: 6.858240876559568\n",
      "R-squared: 0.9891677365218575\n"
     ]
    }
   ],
   "source": [
    "import pandas as pd\n",
    "from sklearn.model_selection import train_test_split\n",
    "from sklearn.linear_model import LinearRegression\n",
    "from sklearn.metrics import mean_squared_error, r2_score\n",
    "\n",
    "# Step 1: Read the \"Life_Expectancy.csv\" file and create a dataframe\n",
    "df_life_expectancy = pd.read_csv(\"Life_Expectancy.csv\")\n",
    "\n",
    "# Step 2: Preprocess the \"Period\" column to extract the midpoint of the year range\n",
    "df_life_expectancy['Period'] = df_life_expectancy['Period'].apply(lambda x: int(x.split('-')[0]) + 1)\n",
    "\n",
    "# Step 3: Preprocess the \"Age group\" column to handle '<1' values and extract the midpoint of the age range\n",
    "def preprocess_age_group(age_group):\n",
    "    age_group_mapping = {\n",
    "        '01-Apr': 0.5,\n",
    "        '05-Sep': 7,\n",
    "        '15-19': 17,\n",
    "        '20-24': 22,\n",
    "        '25-29': 27,\n",
    "        '30-34': 32,\n",
    "        '35-39': 37,\n",
    "        '40-44': 42,\n",
    "        '45-49': 47,\n",
    "        '50-54': 52,\n",
    "        '55-59': 57,\n",
    "        '60-64': 62,\n",
    "        '65-69': 67,\n",
    "        '70-74': 72,\n",
    "        '75-79': 77,\n",
    "        '80-84': 82,\n",
    "        '85-89': 87,\n",
    "        '90+': 95,\n",
    "        '<1': 0.5,\n",
    "        'Oct-14': (10 + 14) / 2\n",
    "    }\n",
    "    \n",
    "    return age_group_mapping.get(age_group, None)\n",
    "\n",
    "df_life_expectancy['Age group'] = df_life_expectancy['Age group'].apply(preprocess_age_group)\n",
    "\n",
    "# Step 4: Drop any rows with missing or invalid values in the \"Age group\" column\n",
    "df_life_expectancy.dropna(subset=['Age group'], inplace=True)\n",
    "\n",
    "# Step 5: Prepare the data and split it into training and test sets\n",
    "X = df_life_expectancy[['Period', 'Sex_code', 'Age group']]\n",
    "y = df_life_expectancy['Life expectancy (LE)']\n",
    "X_train, X_test, y_train, y_test = train_test_split(X, y, test_size=0.2, random_state=42)\n",
    "\n",
    "# Step 6: Train the linear model on the training data\n",
    "linear_model = LinearRegression()\n",
    "linear_model.fit(X_train, y_train)\n",
    "\n",
    "# Step 7: Use the trained model to make predictions on the test data\n",
    "y_pred = linear_model.predict(X_test)\n",
    "\n",
    "# Evaluate the model's performance\n",
    "mse = mean_squared_error(y_test, y_pred)\n",
    "r_squared = r2_score(y_test, y_pred)\n",
    "\n",
    "print(f\"Mean Squared Error: {mse}\")\n",
    "print(f\"R-squared: {r_squared}\")"
   ]
  },
  {
   "cell_type": "code",
   "execution_count": null,
   "metadata": {},
   "outputs": [],
   "source": []
  },
  {
   "cell_type": "code",
   "execution_count": null,
   "metadata": {},
   "outputs": [],
   "source": []
  },
  {
   "cell_type": "markdown",
   "metadata": {},
   "source": [
    "# Q1(f)\n",
    "For females in the period 2019, normalise the data appropriately, split the data into (80%) training data and (20%) test data. You need to pick a suitable linear model in sklearn to try to predict the \"Stat_code\" using the \"Age group\" and \"Expected_Age\". First normalise your input data before using sklearn. Comment on the testing error. (4 marks)"
   ]
  },
  {
   "cell_type": "code",
   "execution_count": 108,
   "metadata": {},
   "outputs": [
    {
     "name": "stderr",
     "output_type": "stream",
     "text": [
      "<ipython-input-108-621430c8a69c>:38: SettingWithCopyWarning: \n",
      "A value is trying to be set on a copy of a slice from a DataFrame.\n",
      "Try using .loc[row_indexer,col_indexer] = value instead\n",
      "\n",
      "See the caveats in the documentation: https://pandas.pydata.org/pandas-docs/stable/user_guide/indexing.html#returning-a-view-versus-a-copy\n",
      "  df_females_2019['Age group'] = df_females_2019['Age group'].map(age_group_mapping)\n"
     ]
    },
    {
     "ename": "KeyError",
     "evalue": "'Area code'",
     "output_type": "error",
     "traceback": [
      "\u001b[1;31m---------------------------------------------------------------------------\u001b[0m",
      "\u001b[1;31mKeyError\u001b[0m                                  Traceback (most recent call last)",
      "\u001b[1;32m<ipython-input-108-621430c8a69c>\u001b[0m in \u001b[0;36m<module>\u001b[1;34m\u001b[0m\n\u001b[0;32m     44\u001b[0m \u001b[1;33m\u001b[0m\u001b[0m\n\u001b[0;32m     45\u001b[0m \u001b[1;31m# Step 5: Merge the DataFrames based on the appropriate columns (e.g., 'Area code' in df_females_2019 and 'Area code' in df_location_codes)\u001b[0m\u001b[1;33m\u001b[0m\u001b[1;33m\u001b[0m\u001b[1;33m\u001b[0m\u001b[0m\n\u001b[1;32m---> 46\u001b[1;33m \u001b[0mdf_females_2019\u001b[0m \u001b[1;33m=\u001b[0m \u001b[0mpd\u001b[0m\u001b[1;33m.\u001b[0m\u001b[0mmerge\u001b[0m\u001b[1;33m(\u001b[0m\u001b[0mdf_females_2019\u001b[0m\u001b[1;33m,\u001b[0m \u001b[0mdf_location_codes\u001b[0m\u001b[1;33m,\u001b[0m \u001b[0mleft_on\u001b[0m\u001b[1;33m=\u001b[0m\u001b[1;34m'Area code'\u001b[0m\u001b[1;33m,\u001b[0m \u001b[0mright_on\u001b[0m\u001b[1;33m=\u001b[0m\u001b[1;34m'Area code'\u001b[0m\u001b[1;33m,\u001b[0m \u001b[0mhow\u001b[0m\u001b[1;33m=\u001b[0m\u001b[1;34m'left'\u001b[0m\u001b[1;33m)\u001b[0m\u001b[1;33m\u001b[0m\u001b[1;33m\u001b[0m\u001b[0m\n\u001b[0m\u001b[0;32m     47\u001b[0m \u001b[1;33m\u001b[0m\u001b[0m\n\u001b[0;32m     48\u001b[0m \u001b[1;31m# Step 6: Prepare the target data (Stat_code)\u001b[0m\u001b[1;33m\u001b[0m\u001b[1;33m\u001b[0m\u001b[1;33m\u001b[0m\u001b[0m\n",
      "\u001b[1;32m~\\anaconda3\\lib\\site-packages\\pandas\\core\\reshape\\merge.py\u001b[0m in \u001b[0;36mmerge\u001b[1;34m(left, right, how, on, left_on, right_on, left_index, right_index, sort, suffixes, copy, indicator, validate)\u001b[0m\n\u001b[0;32m     72\u001b[0m     \u001b[0mvalidate\u001b[0m\u001b[1;33m=\u001b[0m\u001b[1;32mNone\u001b[0m\u001b[1;33m,\u001b[0m\u001b[1;33m\u001b[0m\u001b[1;33m\u001b[0m\u001b[0m\n\u001b[0;32m     73\u001b[0m ) -> \"DataFrame\":\n\u001b[1;32m---> 74\u001b[1;33m     op = _MergeOperation(\n\u001b[0m\u001b[0;32m     75\u001b[0m         \u001b[0mleft\u001b[0m\u001b[1;33m,\u001b[0m\u001b[1;33m\u001b[0m\u001b[1;33m\u001b[0m\u001b[0m\n\u001b[0;32m     76\u001b[0m         \u001b[0mright\u001b[0m\u001b[1;33m,\u001b[0m\u001b[1;33m\u001b[0m\u001b[1;33m\u001b[0m\u001b[0m\n",
      "\u001b[1;32m~\\anaconda3\\lib\\site-packages\\pandas\\core\\reshape\\merge.py\u001b[0m in \u001b[0;36m__init__\u001b[1;34m(self, left, right, how, on, left_on, right_on, axis, left_index, right_index, sort, suffixes, copy, indicator, validate)\u001b[0m\n\u001b[0;32m    650\u001b[0m             \u001b[0mself\u001b[0m\u001b[1;33m.\u001b[0m\u001b[0mright_join_keys\u001b[0m\u001b[1;33m,\u001b[0m\u001b[1;33m\u001b[0m\u001b[1;33m\u001b[0m\u001b[0m\n\u001b[0;32m    651\u001b[0m             \u001b[0mself\u001b[0m\u001b[1;33m.\u001b[0m\u001b[0mjoin_names\u001b[0m\u001b[1;33m,\u001b[0m\u001b[1;33m\u001b[0m\u001b[1;33m\u001b[0m\u001b[0m\n\u001b[1;32m--> 652\u001b[1;33m         ) = self._get_merge_keys()\n\u001b[0m\u001b[0;32m    653\u001b[0m \u001b[1;33m\u001b[0m\u001b[0m\n\u001b[0;32m    654\u001b[0m         \u001b[1;31m# validate the merge keys dtypes. We may need to coerce\u001b[0m\u001b[1;33m\u001b[0m\u001b[1;33m\u001b[0m\u001b[1;33m\u001b[0m\u001b[0m\n",
      "\u001b[1;32m~\\anaconda3\\lib\\site-packages\\pandas\\core\\reshape\\merge.py\u001b[0m in \u001b[0;36m_get_merge_keys\u001b[1;34m(self)\u001b[0m\n\u001b[0;32m   1003\u001b[0m                     \u001b[1;32mif\u001b[0m \u001b[1;32mnot\u001b[0m \u001b[0mis_rkey\u001b[0m\u001b[1;33m(\u001b[0m\u001b[0mrk\u001b[0m\u001b[1;33m)\u001b[0m\u001b[1;33m:\u001b[0m\u001b[1;33m\u001b[0m\u001b[1;33m\u001b[0m\u001b[0m\n\u001b[0;32m   1004\u001b[0m                         \u001b[1;32mif\u001b[0m \u001b[0mrk\u001b[0m \u001b[1;32mis\u001b[0m \u001b[1;32mnot\u001b[0m \u001b[1;32mNone\u001b[0m\u001b[1;33m:\u001b[0m\u001b[1;33m\u001b[0m\u001b[1;33m\u001b[0m\u001b[0m\n\u001b[1;32m-> 1005\u001b[1;33m                             \u001b[0mright_keys\u001b[0m\u001b[1;33m.\u001b[0m\u001b[0mappend\u001b[0m\u001b[1;33m(\u001b[0m\u001b[0mright\u001b[0m\u001b[1;33m.\u001b[0m\u001b[0m_get_label_or_level_values\u001b[0m\u001b[1;33m(\u001b[0m\u001b[0mrk\u001b[0m\u001b[1;33m)\u001b[0m\u001b[1;33m)\u001b[0m\u001b[1;33m\u001b[0m\u001b[1;33m\u001b[0m\u001b[0m\n\u001b[0m\u001b[0;32m   1006\u001b[0m                         \u001b[1;32melse\u001b[0m\u001b[1;33m:\u001b[0m\u001b[1;33m\u001b[0m\u001b[1;33m\u001b[0m\u001b[0m\n\u001b[0;32m   1007\u001b[0m                             \u001b[1;31m# work-around for merge_asof(right_index=True)\u001b[0m\u001b[1;33m\u001b[0m\u001b[1;33m\u001b[0m\u001b[1;33m\u001b[0m\u001b[0m\n",
      "\u001b[1;32m~\\anaconda3\\lib\\site-packages\\pandas\\core\\generic.py\u001b[0m in \u001b[0;36m_get_label_or_level_values\u001b[1;34m(self, key, axis)\u001b[0m\n\u001b[0;32m   1561\u001b[0m             \u001b[0mvalues\u001b[0m \u001b[1;33m=\u001b[0m \u001b[0mself\u001b[0m\u001b[1;33m.\u001b[0m\u001b[0maxes\u001b[0m\u001b[1;33m[\u001b[0m\u001b[0maxis\u001b[0m\u001b[1;33m]\u001b[0m\u001b[1;33m.\u001b[0m\u001b[0mget_level_values\u001b[0m\u001b[1;33m(\u001b[0m\u001b[0mkey\u001b[0m\u001b[1;33m)\u001b[0m\u001b[1;33m.\u001b[0m\u001b[0m_values\u001b[0m\u001b[1;33m\u001b[0m\u001b[1;33m\u001b[0m\u001b[0m\n\u001b[0;32m   1562\u001b[0m         \u001b[1;32melse\u001b[0m\u001b[1;33m:\u001b[0m\u001b[1;33m\u001b[0m\u001b[1;33m\u001b[0m\u001b[0m\n\u001b[1;32m-> 1563\u001b[1;33m             \u001b[1;32mraise\u001b[0m \u001b[0mKeyError\u001b[0m\u001b[1;33m(\u001b[0m\u001b[0mkey\u001b[0m\u001b[1;33m)\u001b[0m\u001b[1;33m\u001b[0m\u001b[1;33m\u001b[0m\u001b[0m\n\u001b[0m\u001b[0;32m   1564\u001b[0m \u001b[1;33m\u001b[0m\u001b[0m\n\u001b[0;32m   1565\u001b[0m         \u001b[1;31m# Check for duplicates\u001b[0m\u001b[1;33m\u001b[0m\u001b[1;33m\u001b[0m\u001b[1;33m\u001b[0m\u001b[0m\n",
      "\u001b[1;31mKeyError\u001b[0m: 'Area code'"
     ]
    }
   ],
   "source": [
    "import pandas as pd\n",
    "from sklearn.model_selection import train_test_split\n",
    "from sklearn.preprocessing import StandardScaler\n",
    "from sklearn.svm import SVC\n",
    "from sklearn.metrics import accuracy_score\n",
    "\n",
    "# Step 1: Read the \"Life_Expectancy.csv\" and \"Location_Codes.csv\" files and create DataFrames\n",
    "df_life_expectancy = pd.read_csv(\"Life_Expectancy.csv\")\n",
    "df_location_codes = pd.read_csv(\"Location_Codes.csv\")\n",
    "\n",
    "# Step 2: Filter data for females in the period 2019\n",
    "df_females_2019 = df_life_expectancy[(df_life_expectancy['Sex'] == 'Female') & (df_life_expectancy['Period'] == '2017-2019')]\n",
    "\n",
    "# Step 3: Map the \"Age group\" using the provided mapping\n",
    "age_group_mapping = {\n",
    "    '01-Apr': 0.5,\n",
    "    '05-Sep': 7,\n",
    "    '15-19': 17,\n",
    "    '20-24': 22,\n",
    "    '25-29': 27,\n",
    "    '30-34': 32,\n",
    "    '35-39': 37,\n",
    "    '40-44': 42,\n",
    "    '45-49': 47,\n",
    "    '50-54': 52,\n",
    "    '55-59': 57,\n",
    "    '60-64': 62,\n",
    "    '65-69': 67,\n",
    "    '70-74': 72,\n",
    "    '75-79': 77,\n",
    "    '80-84': 82,\n",
    "    '85-89': 87,\n",
    "    '90+': 95,\n",
    "    '<1': 0.5,\n",
    "    'Oct-14': (10 + 14) / 2\n",
    "}\n",
    "\n",
    "df_females_2019['Age group'] = df_females_2019['Age group'].map(age_group_mapping)\n",
    "\n",
    "# Step 4: Normalize the input data\n",
    "scaler = StandardScaler()\n",
    "X = df_females_2019[['Age group', 'Life expectancy (LE)']]\n",
    "X_normalized = scaler.fit_transform(X)\n",
    "\n",
    "# Step 5: Merge the DataFrames based on the appropriate columns (e.g., 'Area code' in df_females_2019 and 'Area code' in df_location_codes)\n",
    "df_females_2019 = pd.merge(df_females_2019, df_location_codes, left_on='Area code', right_on='Area code', how='left')\n",
    "\n",
    "# Step 6: Prepare the target data (Stat_code)\n",
    "y = df_females_2019['Stat_code']\n",
    "\n",
    "# Step 7: Split the data into training and test sets (80% training, 20% test)\n",
    "X_train, X_test, y_train, y_test = train_test_split(X_normalized, y, test_size=0.2, random_state=42)\n",
    "\n",
    "# Step 8: Train the SVM classifier\n",
    "svm_classifier = SVC(kernel='linear')\n",
    "svm_classifier.fit(X_train, y_train)\n",
    "\n",
    "# Step 9: Make predictions on the test data\n",
    "y_pred = svm_classifier.predict(X_test)\n",
    "\n",
    "# Step 10: Evaluate the model's performance\n",
    "accuracy = accuracy_score(y_test, y_pred)\n",
    "\n",
    "print(f\"Testing Accuracy: {accuracy}\")\n",
    "\n"
   ]
  },
  {
   "cell_type": "code",
   "execution_count": null,
   "metadata": {},
   "outputs": [],
   "source": []
  },
  {
   "cell_type": "code",
   "execution_count": null,
   "metadata": {},
   "outputs": [],
   "source": []
  },
  {
   "cell_type": "markdown",
   "metadata": {},
   "source": [
    "# Q2(a) \n",
    "Read in the \"Regional_Gross_Disposable_Household_Income.csv\" file. Remove the first two rows. Introduce a column named \"Stat_code\". Define \"Stat_code\" to be the first 3 letters of the \"ITL code\". Remove the \"ITL level\", \"ITL code\" and \"Region name\" columns. Put the column names in string format. Introduce a column called \"Stat_Number\" such that if \"Stat_code\"=\"TLC\" then \"Stat_Number\"=0, if \"Stat_code\"=\"TLD\" then \"Stat_Number\"=1, etc... up to if \"Stat_code\"=\"TLN\" then \"Stat_Number\"=11. (4 marks)"
   ]
  },
  {
   "cell_type": "code",
   "execution_count": null,
   "metadata": {},
   "outputs": [],
   "source": []
  },
  {
   "cell_type": "code",
   "execution_count": 3,
   "metadata": {},
   "outputs": [
    {
     "name": "stdout",
     "output_type": "stream",
     "text": [
      "     1997  1998  1999  2000  2001  2002  2003  2004  2005  2006  ...  2013  \\\n",
      "2    86.0  84.8  84.2  84.2  84.7  84.1  84.2  84.6  83.3  83.0  ...  83.0   \n",
      "3    85.5  83.4  83.5  83.3  83.9  83.0  82.6  83.2  82.6  81.9  ...  80.9   \n",
      "4    86.1  83.7  84.3  83.3  83.7  84.2  83.9  84.5  84.8  84.4  ...  82.6   \n",
      "5    83.3  78.5  79.3  79.5  80.3  78.7  78.3  78.7  78.7  78.8  ...  79.2   \n",
      "6    89.2  86.2  84.2  86.5  90.0  88.3  88.1  87.2  85.7  83.8  ...  82.3   \n",
      "..    ...   ...   ...   ...   ...   ...   ...   ...   ...   ...  ...   ...   \n",
      "229  65.6  63.9  64.2  64.2  66.0  70.3  72.2  73.8  77.7  78.3  ...  76.4   \n",
      "230  86.9  85.0  84.5  86.0  84.5  87.1  87.7  88.5  88.5  88.5  ...  87.9   \n",
      "231  87.5  85.5  85.3  87.7  86.7  89.0  90.2  90.8  91.3  90.6  ...  91.1   \n",
      "232  86.0  84.6  83.6  84.7  81.8  84.4  85.7  86.9  87.4  88.3  ...  87.0   \n",
      "233  70.9  69.8  70.2  68.6  68.4  69.9  74.3  77.5  80.2  81.2  ...  74.5   \n",
      "\n",
      "     2014  2015  2016  2017  2018  2019  2020  Stat_code  Stat_Number  \n",
      "2    82.5  81.3  81.2  81.1  80.2  80.4  81.2        TLC          0.0  \n",
      "3    81.1  79.6  79.4  79.4  78.6  78.7  79.7        TLC          0.0  \n",
      "4    82.8  80.7  80.6  80.6  79.4  80.0  81.6        TLC          0.0  \n",
      "5    80.0  78.2  77.6  77.2  77.0  76.9  78.3        TLC          0.0  \n",
      "6    81.1  80.6  82.7  84.5  83.0  82.7  84.5        TLC          0.0  \n",
      "..    ...   ...   ...   ...   ...   ...   ...        ...          ...  \n",
      "229  76.7  78.7  80.6  81.8  80.4  80.4  79.9        TLN         11.0  \n",
      "230  88.0  85.1  83.4  84.3  83.0  84.1  84.4        TLN         11.0  \n",
      "231  90.8  92.4  93.7  93.8  93.5  92.7  92.3        TLN         11.0  \n",
      "232  88.0  86.9  86.6  86.4  85.8  84.8  84.1        TLN         11.0  \n",
      "233  74.1  75.0  76.1  76.9  75.6  76.7  76.5        TLN         11.0  \n",
      "\n",
      "[232 rows x 26 columns]\n"
     ]
    }
   ],
   "source": [
    "import pandas as pd\n",
    "\n",
    "# Read the CSV file\n",
    "df = pd.read_csv(\"Regional_Gross_Disposable_Household_Income.csv\")\n",
    "\n",
    "# Remove the first two rows\n",
    "df = df.iloc[2:]\n",
    "\n",
    "# Introduce the \"Stat_code\" column\n",
    "df[\"Stat_code\"] = df[\"ITL code\"].str[:3]\n",
    "\n",
    "# Remove the unwanted columns\n",
    "df.drop(columns=[\"ITL level\", \"ITL code\", \"Region name\"], inplace=True)\n",
    "\n",
    "# Put the column names in string format\n",
    "df.columns = df.columns.astype(str)\n",
    "\n",
    "# Introduce the \"Stat_Number\" column based on the \"Stat_code\" values\n",
    "stat_code_mapping = {\n",
    "    \"TLC\": 0,\n",
    "    \"TLD\": 1,\n",
    "    # Add other mappings up to \"TLN\": 11\n",
    "    \"TLN\": 11\n",
    "}\n",
    "df[\"Stat_Number\"] = df[\"Stat_code\"].map(stat_code_mapping)\n",
    "\n",
    "# Display the resulting DataFrame\n",
    "print(df)\n"
   ]
  },
  {
   "cell_type": "code",
   "execution_count": null,
   "metadata": {},
   "outputs": [],
   "source": []
  },
  {
   "cell_type": "markdown",
   "metadata": {},
   "source": [
    "# Q2(b)\n",
    "Using R, plot a graph of the mean Regional Gross Disposable Household Income (RGDHI) for each \"Stat_code\" against time from 1997 to 2020. Using R, plot a graph of the standard deviation of the Regional Gross Disposable Household Income (RGDHI) for each \"Stat_code\" against time from 1997 to 2020. Comment on each graph. (8 marks)"
   ]
  },
  {
   "cell_type": "code",
   "execution_count": 1,
   "metadata": {},
   "outputs": [
    {
     "ename": "SyntaxError",
     "evalue": "invalid syntax. Perhaps you forgot a comma? (3624991566.py, line 14)",
     "output_type": "error",
     "traceback": [
      "\u001b[0;36m  Cell \u001b[0;32mIn [1], line 14\u001b[0;36m\u001b[0m\n\u001b[0;31m    mean_income <- aggregate(RGDHI ~ Stat_code + Year, df_income, mean, na.rm=TRUE)\u001b[0m\n\u001b[0m                             ^\u001b[0m\n\u001b[0;31mSyntaxError\u001b[0m\u001b[0;31m:\u001b[0m invalid syntax. Perhaps you forgot a comma?\n"
     ]
    }
   ],
   "source": [
    "# Load required libraries\n",
    "library(ggplot2)\n",
    "\n",
    "# Step 1: Read the \"Regional_Gross_Disposable_Household_Income.csv\" file and skip the second and third rows\n",
    "df_income <- read.csv(\"Regional_Gross_Disposable_Household_Income.csv\", skip = 2)\n",
    "\n",
    "# Check the column names\n",
    "print(names(df_income))\n",
    "\n",
    "# Adjust the column name if needed\n",
    "# For example, if the column name is different, replace 'RGDHI' with the correct column name\n",
    "\n",
    "# Step 2: Calculate the mean and standard deviation of RGDHI for each \"Stat_code\" and Year\n",
    "mean_income <- aggregate(RGDHI ~ Stat_code + Year, df_income, mean, na.rm=TRUE)\n",
    "sd_income <- aggregate(RGDHI ~ Stat_code + Year, df_income, sd, na.rm=TRUE)\n",
    "\n",
    "# Plot the mean RGDHI for each \"Stat_code\" against time using ggplot2\n",
    "plot_mean_income <- ggplot(mean_income, aes(x = Year, y = RGDHI, color = Stat_code)) +\n",
    "  geom_line() +\n",
    "  geom_point() +\n",
    "  labs(title = \"Mean Regional Gross Disposable Household Income\",\n",
    "       x = \"Year\",\n",
    "       y = \"Mean RGDHI\")\n",
    "\n",
    "# Plot the standard deviation of RGDHI for each \"Stat_code\" against time using ggplot2\n",
    "plot_sd_income <- ggplot(sd_income, aes(x = Year, y = RGDHI, color = Stat_code)) +\n",
    "  geom_line() +\n",
    "  geom_point() +\n",
    "  labs(title = \"Standard Deviation of Regional Gross Disposable Household Income\",\n",
    "       x = \"Year\",\n",
    "       y = \"SD RGDHI\")\n",
    "\n",
    "# Display the plots\n",
    "print(plot_mean_income)\n",
    "print(plot_sd_income)"
   ]
  },
  {
   "cell_type": "code",
   "execution_count": null,
   "metadata": {},
   "outputs": [],
   "source": []
  },
  {
   "cell_type": "code",
   "execution_count": null,
   "metadata": {},
   "outputs": [],
   "source": []
  },
  {
   "cell_type": "markdown",
   "metadata": {},
   "source": [
    "# Q2(c)\n",
    "Split the data into (80%) training data and (20%) test data. Use an appropriate linear model from sklearn to predict the \"Stat_code\" using the first 24 columns of data. Test your model using the test data set. Discuss your results including any relevant illustrations. (6 marks)"
   ]
  },
  {
   "cell_type": "code",
   "execution_count": null,
   "metadata": {},
   "outputs": [],
   "source": []
  },
  {
   "cell_type": "code",
   "execution_count": 2,
   "metadata": {},
   "outputs": [
    {
     "name": "stderr",
     "output_type": "stream",
     "text": [
      "/home/frank/.local/lib/python3.11/site-packages/sklearn/preprocessing/_encoders.py:972: FutureWarning: `sparse` was renamed to `sparse_output` in version 1.2 and will be removed in 1.4. `sparse_output` is ignored unless you leave `sparse` to its default value.\n",
      "  warnings.warn(\n"
     ]
    },
    {
     "name": "stdout",
     "output_type": "stream",
     "text": [
      "Accuracy: 0.6809\n",
      "Confusion Matrix:\n",
      "[[1 0 0 0 0 0 0 0 0 0 0 0]\n",
      " [0 2 2 0 0 0 0 0 0 0 1 1]\n",
      " [0 1 0 0 0 0 0 0 0 0 0 0]\n",
      " [0 0 0 1 0 0 0 0 0 1 0 0]\n",
      " [0 0 0 0 3 0 0 0 0 0 0 0]\n",
      " [0 1 0 0 0 3 0 0 0 0 0 0]\n",
      " [0 0 0 2 0 0 5 1 0 0 0 0]\n",
      " [0 0 0 0 0 1 0 6 0 0 0 0]\n",
      " [0 0 0 0 0 0 0 0 2 0 1 0]\n",
      " [0 0 0 0 0 0 0 0 0 3 0 1]\n",
      " [0 1 0 0 0 1 0 0 0 0 4 0]\n",
      " [0 0 0 0 0 0 0 0 0 0 0 2]]\n"
     ]
    },
    {
     "name": "stderr",
     "output_type": "stream",
     "text": [
      "/home/frank/.local/lib/python3.11/site-packages/sklearn/linear_model/_logistic.py:460: ConvergenceWarning: lbfgs failed to converge (status=1):\n",
      "STOP: TOTAL NO. of ITERATIONS REACHED LIMIT.\n",
      "\n",
      "Increase the number of iterations (max_iter) or scale the data as shown in:\n",
      "    https://scikit-learn.org/stable/modules/preprocessing.html\n",
      "Please also refer to the documentation for alternative solver options:\n",
      "    https://scikit-learn.org/stable/modules/linear_model.html#logistic-regression\n",
      "  n_iter_i = _check_optimize_result(\n"
     ]
    }
   ],
   "source": [
    "import pandas as pd\n",
    "from sklearn.model_selection import train_test_split\n",
    "from sklearn.linear_model import LogisticRegression\n",
    "from sklearn.metrics import accuracy_score, confusion_matrix\n",
    "from sklearn.preprocessing import OneHotEncoder\n",
    "from sklearn.impute import SimpleImputer\n",
    "\n",
    "# Read the CSV file and preprocess the data as done before\n",
    "df = pd.read_csv(\"Regional_Gross_Disposable_Household_Income.csv\")\n",
    "df = df.iloc[2:]\n",
    "df[\"Stat_code\"] = df[\"ITL code\"].str[:3]\n",
    "df.drop(columns=[\"ITL level\", \"ITL code\", \"Region name\"], inplace=True)\n",
    "\n",
    "# Prepare the features (X) and the target variable (y)\n",
    "X = df.iloc[:, 3:27]\n",
    "y = df[\"Stat_code\"]\n",
    "\n",
    "# One-hot encode categorical variables in the features\n",
    "categorical_columns = X.select_dtypes(include=[\"object\"]).columns\n",
    "encoder = OneHotEncoder(sparse=False, drop=\"first\")\n",
    "X_encoded = encoder.fit_transform(X[categorical_columns])\n",
    "X_encoded_df = pd.DataFrame(X_encoded, columns=encoder.get_feature_names_out(categorical_columns))\n",
    "X_encoded_df.index = X.index  # Preserve the original index for correct merging\n",
    "X_imputed = pd.concat([X.drop(columns=categorical_columns), X_encoded_df], axis=1)\n",
    "\n",
    "# Handle missing values with mean imputation\n",
    "imputer = SimpleImputer(strategy=\"mean\")\n",
    "X_imputed = imputer.fit_transform(X_imputed)\n",
    "\n",
    "# Split the data into training (80%) and test (20%) sets\n",
    "X_train, X_test, y_train, y_test = train_test_split(X_imputed, y, test_size=0.2, random_state=42)\n",
    "\n",
    "# Create and fit the logistic regression model\n",
    "model = LogisticRegression()\n",
    "model.fit(X_train, y_train)\n",
    "\n",
    "# Make predictions on the test data\n",
    "y_pred = model.predict(X_test)\n",
    "\n",
    "# Calculate accuracy on the test data\n",
    "accuracy = accuracy_score(y_test, y_pred)\n",
    "\n",
    "# Display the accuracy and confusion matrix\n",
    "print(f\"Accuracy: {accuracy:.4f}\")\n",
    "print(\"Confusion Matrix:\")\n",
    "print(confusion_matrix(y_test, y_pred))\n"
   ]
  },
  {
   "cell_type": "code",
   "execution_count": null,
   "metadata": {},
   "outputs": [],
   "source": []
  },
  {
   "cell_type": "markdown",
   "metadata": {},
   "source": [
    "# Q2(d)\n",
    "Split the data into (80%) training data and (20%) test data. Using PyTorch predict the \"Stat_Number\" using the first 24 columns of data. Test your model using the test data set. Discuss your results. (6 marks)"
   ]
  },
  {
   "cell_type": "code",
   "execution_count": null,
   "metadata": {},
   "outputs": [],
   "source": []
  },
  {
   "cell_type": "code",
   "execution_count": 25,
   "metadata": {},
   "outputs": [
    {
     "name": "stderr",
     "output_type": "stream",
     "text": [
      "/tmp/ipykernel_3485/4132256326.py:16: UserWarning: To copy construct from a tensor, it is recommended to use sourceTensor.clone().detach() or sourceTensor.clone().detach().requires_grad_(True), rather than torch.tensor(sourceTensor).\n",
      "  X_train = torch.tensor(X_train, dtype=torch.float32)\n",
      "/tmp/ipykernel_3485/4132256326.py:17: UserWarning: To copy construct from a tensor, it is recommended to use sourceTensor.clone().detach() or sourceTensor.clone().detach().requires_grad_(True), rather than torch.tensor(sourceTensor).\n",
      "  y_train = torch.tensor(y_train, dtype=torch.long)\n",
      "/tmp/ipykernel_3485/4132256326.py:18: UserWarning: To copy construct from a tensor, it is recommended to use sourceTensor.clone().detach() or sourceTensor.clone().detach().requires_grad_(True), rather than torch.tensor(sourceTensor).\n",
      "  X_test = torch.tensor(X_test, dtype=torch.float32)\n",
      "/tmp/ipykernel_3485/4132256326.py:19: UserWarning: To copy construct from a tensor, it is recommended to use sourceTensor.clone().detach() or sourceTensor.clone().detach().requires_grad_(True), rather than torch.tensor(sourceTensor).\n",
      "  y_test = torch.tensor(y_test, dtype=torch.long)\n"
     ]
    },
    {
     "name": "stdout",
     "output_type": "stream",
     "text": [
      "Epoch [10/100], Loss: 2.3446\n",
      "Epoch [20/100], Loss: 2.2532\n",
      "Epoch [30/100], Loss: 2.1866\n",
      "Epoch [40/100], Loss: 2.1390\n",
      "Epoch [50/100], Loss: 2.1049\n",
      "Epoch [60/100], Loss: 2.0775\n",
      "Epoch [70/100], Loss: 2.0527\n",
      "Epoch [80/100], Loss: 2.0290\n",
      "Epoch [90/100], Loss: 2.0051\n",
      "Epoch [100/100], Loss: 1.9803\n",
      "Accuracy: 0.2553\n",
      "Confusion Matrix:\n",
      "[[0 0 0 0 0 0 0 0 0 0 0 1]\n",
      " [0 0 2 0 0 1 0 1 0 0 0 2]\n",
      " [0 0 0 0 0 0 0 0 0 0 0 1]\n",
      " [0 2 0 0 0 0 0 0 0 0 0 0]\n",
      " [0 1 1 0 0 0 0 0 0 0 0 1]\n",
      " [0 1 0 0 0 0 0 3 0 0 0 0]\n",
      " [0 0 0 0 0 1 4 2 0 0 1 0]\n",
      " [0 2 1 0 0 0 0 4 0 0 0 0]\n",
      " [0 1 0 0 0 0 0 2 0 0 0 0]\n",
      " [0 2 1 0 0 0 0 0 0 0 0 1]\n",
      " [0 1 0 0 0 0 0 1 0 0 2 2]\n",
      " [0 0 0 0 0 0 0 0 0 0 0 2]]\n"
     ]
    }
   ],
   "source": [
    "import torch\n",
    "import torch.nn as nn\n",
    "import torch.optim as optim\n",
    "import pandas as pd\n",
    "from sklearn.model_selection import train_test_split\n",
    "from sklearn.preprocessing import StandardScaler\n",
    "from sklearn.impute import SimpleImputer\n",
    "from sklearn.metrics import accuracy_score, confusion_matrix\n",
    "\n",
    "# Read the CSV file and preprocess the data as done before\n",
    "# ... (same as before)\n",
    "\n",
    "# Assuming X_train, y_train, X_test, and y_test are defined\n",
    "\n",
    "# Convert data to PyTorch tensors\n",
    "X_train = torch.tensor(X_train, dtype=torch.float32)\n",
    "y_train = torch.tensor(y_train, dtype=torch.long)\n",
    "X_test = torch.tensor(X_test, dtype=torch.float32)\n",
    "y_test = torch.tensor(y_test, dtype=torch.long)\n",
    "\n",
    "# Define your model class and training loop here\n",
    "class MLP(nn.Module):\n",
    "    def __init__(self, input_size, hidden_size, num_classes):\n",
    "        super(MLP, self).__init__()\n",
    "        self.fc1 = nn.Linear(input_size, hidden_size)\n",
    "        self.relu = nn.ReLU()\n",
    "        self.fc2 = nn.Linear(hidden_size, num_classes)\n",
    "    \n",
    "    def forward(self, x):\n",
    "        x = self.fc1(x)\n",
    "        x = self.relu(x)\n",
    "        x = self.fc2(x)\n",
    "        return x\n",
    "\n",
    "# Parameters for the model\n",
    "input_size = X_train.shape[1]\n",
    "hidden_size = 64\n",
    "num_classes = len(df[\"Stat_Number\"].unique())\n",
    "\n",
    "# Create the model\n",
    "model = MLP(input_size, hidden_size, num_classes)\n",
    "\n",
    "# Define the loss function and optimizer\n",
    "criterion = nn.CrossEntropyLoss()\n",
    "optimizer = optim.Adam(model.parameters(), lr=0.001)\n",
    "\n",
    "# Training loop\n",
    "num_epochs = 100\n",
    "for epoch in range(num_epochs):\n",
    "    # Forward pass\n",
    "    outputs = model(X_train)\n",
    "    loss = criterion(outputs, y_train)\n",
    "    \n",
    "    # Backward and optimize\n",
    "    optimizer.zero_grad()\n",
    "    loss.backward()\n",
    "    optimizer.step()\n",
    "    \n",
    "    if (epoch + 1) % 10 == 0:\n",
    "        print(f\"Epoch [{epoch+1}/{num_epochs}], Loss: {loss.item():.4f}\")\n",
    "\n",
    "# Assuming the model is trained, let's evaluate it on the test set\n",
    "with torch.no_grad():\n",
    "    model.eval()\n",
    "    predicted = model(X_test)\n",
    "    _, predicted_labels = torch.max(predicted, 1)\n",
    "    accuracy = accuracy_score(y_test, predicted_labels)\n",
    "    conf_matrix = confusion_matrix(y_test, predicted_labels)\n",
    "\n",
    "# Display the accuracy and confusion matrix\n",
    "print(f\"Accuracy: {accuracy:.4f}\")\n",
    "print(\"Confusion Matrix:\")\n",
    "print(conf_matrix)\n"
   ]
  },
  {
   "cell_type": "code",
   "execution_count": null,
   "metadata": {},
   "outputs": [],
   "source": []
  },
  {
   "cell_type": "markdown",
   "metadata": {},
   "source": [
    "# Q2(e)\n",
    "Create a new data frame containing the mean value of the \"Expected_Age\" and the mean value of \"RGDHI\" for each \"Stat_code\" and \"Period\". The new dataframe should have 216 rows and 4 columns. (6 marks)"
   ]
  },
  {
   "cell_type": "code",
   "execution_count": 14,
   "metadata": {},
   "outputs": [
    {
     "ename": "KeyError",
     "evalue": "'Stat_code'",
     "output_type": "error",
     "traceback": [
      "\u001b[0;31m---------------------------------------------------------------------------\u001b[0m",
      "\u001b[0;31mKeyError\u001b[0m                                  Traceback (most recent call last)",
      "Cell \u001b[0;32mIn [14], line 18\u001b[0m\n\u001b[1;32m     15\u001b[0m \u001b[38;5;66;03m# Assuming \"Period\" is a column in \"Life_Expectancy.csv,\" replace the existing \"Period\" column in the original DataFrame\u001b[39;00m\n\u001b[1;32m     16\u001b[0m df[\u001b[38;5;124m\"\u001b[39m\u001b[38;5;124mStat_code\u001b[39m\u001b[38;5;124m\"\u001b[39m] \u001b[38;5;241m=\u001b[39m Stat_code_df[\u001b[38;5;124m\"\u001b[39m\u001b[38;5;124mStat_code\u001b[39m\u001b[38;5;124m\"\u001b[39m]\n\u001b[0;32m---> 18\u001b[0m merged_df \u001b[38;5;241m=\u001b[39m \u001b[43mdf\u001b[49m\u001b[38;5;241;43m.\u001b[39;49m\u001b[43mmerge\u001b[49m\u001b[43m(\u001b[49m\u001b[43mperiod_df\u001b[49m\u001b[43m,\u001b[49m\u001b[43m \u001b[49m\u001b[43mon\u001b[49m\u001b[38;5;241;43m=\u001b[39;49m\u001b[43m[\u001b[49m\u001b[38;5;124;43m\"\u001b[39;49m\u001b[38;5;124;43mStat_code\u001b[39;49m\u001b[38;5;124;43m\"\u001b[39;49m\u001b[43m,\u001b[49m\u001b[43m \u001b[49m\u001b[38;5;124;43m\"\u001b[39;49m\u001b[38;5;124;43mPeriod\u001b[39;49m\u001b[38;5;124;43m\"\u001b[39;49m\u001b[43m]\u001b[49m\u001b[43m,\u001b[49m\u001b[43m \u001b[49m\u001b[43mhow\u001b[49m\u001b[38;5;241;43m=\u001b[39;49m\u001b[38;5;124;43m\"\u001b[39;49m\u001b[38;5;124;43mleft\u001b[39;49m\u001b[38;5;124;43m\"\u001b[39;49m\u001b[43m)\u001b[49m\n\u001b[1;32m     19\u001b[0m \u001b[38;5;28mprint\u001b[39m(merged_df\u001b[38;5;241m.\u001b[39mhead())\n\u001b[1;32m     21\u001b[0m \u001b[38;5;66;03m# Group by \"Stat_code\" and \"Period\" and calculate the mean of \"Expected_Age\" and \"RGDHI\"\u001b[39;00m\n",
      "File \u001b[0;32m/usr/lib/python3/dist-packages/pandas/core/frame.py:10093\u001b[0m, in \u001b[0;36mDataFrame.merge\u001b[0;34m(self, right, how, on, left_on, right_on, left_index, right_index, sort, suffixes, copy, indicator, validate)\u001b[0m\n\u001b[1;32m  10074\u001b[0m \u001b[38;5;129m@Substitution\u001b[39m(\u001b[38;5;124m\"\u001b[39m\u001b[38;5;124m\"\u001b[39m)\n\u001b[1;32m  10075\u001b[0m \u001b[38;5;129m@Appender\u001b[39m(_merge_doc, indents\u001b[38;5;241m=\u001b[39m\u001b[38;5;241m2\u001b[39m)\n\u001b[1;32m  10076\u001b[0m \u001b[38;5;28;01mdef\u001b[39;00m \u001b[38;5;21mmerge\u001b[39m(\n\u001b[0;32m   (...)\u001b[0m\n\u001b[1;32m  10089\u001b[0m     validate: \u001b[38;5;28mstr\u001b[39m \u001b[38;5;241m|\u001b[39m \u001b[38;5;28;01mNone\u001b[39;00m \u001b[38;5;241m=\u001b[39m \u001b[38;5;28;01mNone\u001b[39;00m,\n\u001b[1;32m  10090\u001b[0m ) \u001b[38;5;241m-\u001b[39m\u001b[38;5;241m>\u001b[39m DataFrame:\n\u001b[1;32m  10091\u001b[0m     \u001b[38;5;28;01mfrom\u001b[39;00m \u001b[38;5;21;01mpandas\u001b[39;00m\u001b[38;5;21;01m.\u001b[39;00m\u001b[38;5;21;01mcore\u001b[39;00m\u001b[38;5;21;01m.\u001b[39;00m\u001b[38;5;21;01mreshape\u001b[39;00m\u001b[38;5;21;01m.\u001b[39;00m\u001b[38;5;21;01mmerge\u001b[39;00m \u001b[38;5;28;01mimport\u001b[39;00m merge\n\u001b[0;32m> 10093\u001b[0m     \u001b[38;5;28;01mreturn\u001b[39;00m \u001b[43mmerge\u001b[49m\u001b[43m(\u001b[49m\n\u001b[1;32m  10094\u001b[0m \u001b[43m        \u001b[49m\u001b[38;5;28;43mself\u001b[39;49m\u001b[43m,\u001b[49m\n\u001b[1;32m  10095\u001b[0m \u001b[43m        \u001b[49m\u001b[43mright\u001b[49m\u001b[43m,\u001b[49m\n\u001b[1;32m  10096\u001b[0m \u001b[43m        \u001b[49m\u001b[43mhow\u001b[49m\u001b[38;5;241;43m=\u001b[39;49m\u001b[43mhow\u001b[49m\u001b[43m,\u001b[49m\n\u001b[1;32m  10097\u001b[0m \u001b[43m        \u001b[49m\u001b[43mon\u001b[49m\u001b[38;5;241;43m=\u001b[39;49m\u001b[43mon\u001b[49m\u001b[43m,\u001b[49m\n\u001b[1;32m  10098\u001b[0m \u001b[43m        \u001b[49m\u001b[43mleft_on\u001b[49m\u001b[38;5;241;43m=\u001b[39;49m\u001b[43mleft_on\u001b[49m\u001b[43m,\u001b[49m\n\u001b[1;32m  10099\u001b[0m \u001b[43m        \u001b[49m\u001b[43mright_on\u001b[49m\u001b[38;5;241;43m=\u001b[39;49m\u001b[43mright_on\u001b[49m\u001b[43m,\u001b[49m\n\u001b[1;32m  10100\u001b[0m \u001b[43m        \u001b[49m\u001b[43mleft_index\u001b[49m\u001b[38;5;241;43m=\u001b[39;49m\u001b[43mleft_index\u001b[49m\u001b[43m,\u001b[49m\n\u001b[1;32m  10101\u001b[0m \u001b[43m        \u001b[49m\u001b[43mright_index\u001b[49m\u001b[38;5;241;43m=\u001b[39;49m\u001b[43mright_index\u001b[49m\u001b[43m,\u001b[49m\n\u001b[1;32m  10102\u001b[0m \u001b[43m        \u001b[49m\u001b[43msort\u001b[49m\u001b[38;5;241;43m=\u001b[39;49m\u001b[43msort\u001b[49m\u001b[43m,\u001b[49m\n\u001b[1;32m  10103\u001b[0m \u001b[43m        \u001b[49m\u001b[43msuffixes\u001b[49m\u001b[38;5;241;43m=\u001b[39;49m\u001b[43msuffixes\u001b[49m\u001b[43m,\u001b[49m\n\u001b[1;32m  10104\u001b[0m \u001b[43m        \u001b[49m\u001b[43mcopy\u001b[49m\u001b[38;5;241;43m=\u001b[39;49m\u001b[43mcopy\u001b[49m\u001b[43m,\u001b[49m\n\u001b[1;32m  10105\u001b[0m \u001b[43m        \u001b[49m\u001b[43mindicator\u001b[49m\u001b[38;5;241;43m=\u001b[39;49m\u001b[43mindicator\u001b[49m\u001b[43m,\u001b[49m\n\u001b[1;32m  10106\u001b[0m \u001b[43m        \u001b[49m\u001b[43mvalidate\u001b[49m\u001b[38;5;241;43m=\u001b[39;49m\u001b[43mvalidate\u001b[49m\u001b[43m,\u001b[49m\n\u001b[1;32m  10107\u001b[0m \u001b[43m    \u001b[49m\u001b[43m)\u001b[49m\n",
      "File \u001b[0;32m/usr/lib/python3/dist-packages/pandas/core/reshape/merge.py:110\u001b[0m, in \u001b[0;36mmerge\u001b[0;34m(left, right, how, on, left_on, right_on, left_index, right_index, sort, suffixes, copy, indicator, validate)\u001b[0m\n\u001b[1;32m     93\u001b[0m \u001b[38;5;129m@Substitution\u001b[39m(\u001b[38;5;124m\"\u001b[39m\u001b[38;5;130;01m\\n\u001b[39;00m\u001b[38;5;124mleft : DataFrame or named Series\u001b[39m\u001b[38;5;124m\"\u001b[39m)\n\u001b[1;32m     94\u001b[0m \u001b[38;5;129m@Appender\u001b[39m(_merge_doc, indents\u001b[38;5;241m=\u001b[39m\u001b[38;5;241m0\u001b[39m)\n\u001b[1;32m     95\u001b[0m \u001b[38;5;28;01mdef\u001b[39;00m \u001b[38;5;21mmerge\u001b[39m(\n\u001b[0;32m   (...)\u001b[0m\n\u001b[1;32m    108\u001b[0m     validate: \u001b[38;5;28mstr\u001b[39m \u001b[38;5;241m|\u001b[39m \u001b[38;5;28;01mNone\u001b[39;00m \u001b[38;5;241m=\u001b[39m \u001b[38;5;28;01mNone\u001b[39;00m,\n\u001b[1;32m    109\u001b[0m ) \u001b[38;5;241m-\u001b[39m\u001b[38;5;241m>\u001b[39m DataFrame:\n\u001b[0;32m--> 110\u001b[0m     op \u001b[38;5;241m=\u001b[39m \u001b[43m_MergeOperation\u001b[49m\u001b[43m(\u001b[49m\n\u001b[1;32m    111\u001b[0m \u001b[43m        \u001b[49m\u001b[43mleft\u001b[49m\u001b[43m,\u001b[49m\n\u001b[1;32m    112\u001b[0m \u001b[43m        \u001b[49m\u001b[43mright\u001b[49m\u001b[43m,\u001b[49m\n\u001b[1;32m    113\u001b[0m \u001b[43m        \u001b[49m\u001b[43mhow\u001b[49m\u001b[38;5;241;43m=\u001b[39;49m\u001b[43mhow\u001b[49m\u001b[43m,\u001b[49m\n\u001b[1;32m    114\u001b[0m \u001b[43m        \u001b[49m\u001b[43mon\u001b[49m\u001b[38;5;241;43m=\u001b[39;49m\u001b[43mon\u001b[49m\u001b[43m,\u001b[49m\n\u001b[1;32m    115\u001b[0m \u001b[43m        \u001b[49m\u001b[43mleft_on\u001b[49m\u001b[38;5;241;43m=\u001b[39;49m\u001b[43mleft_on\u001b[49m\u001b[43m,\u001b[49m\n\u001b[1;32m    116\u001b[0m \u001b[43m        \u001b[49m\u001b[43mright_on\u001b[49m\u001b[38;5;241;43m=\u001b[39;49m\u001b[43mright_on\u001b[49m\u001b[43m,\u001b[49m\n\u001b[1;32m    117\u001b[0m \u001b[43m        \u001b[49m\u001b[43mleft_index\u001b[49m\u001b[38;5;241;43m=\u001b[39;49m\u001b[43mleft_index\u001b[49m\u001b[43m,\u001b[49m\n\u001b[1;32m    118\u001b[0m \u001b[43m        \u001b[49m\u001b[43mright_index\u001b[49m\u001b[38;5;241;43m=\u001b[39;49m\u001b[43mright_index\u001b[49m\u001b[43m,\u001b[49m\n\u001b[1;32m    119\u001b[0m \u001b[43m        \u001b[49m\u001b[43msort\u001b[49m\u001b[38;5;241;43m=\u001b[39;49m\u001b[43msort\u001b[49m\u001b[43m,\u001b[49m\n\u001b[1;32m    120\u001b[0m \u001b[43m        \u001b[49m\u001b[43msuffixes\u001b[49m\u001b[38;5;241;43m=\u001b[39;49m\u001b[43msuffixes\u001b[49m\u001b[43m,\u001b[49m\n\u001b[1;32m    121\u001b[0m \u001b[43m        \u001b[49m\u001b[43mindicator\u001b[49m\u001b[38;5;241;43m=\u001b[39;49m\u001b[43mindicator\u001b[49m\u001b[43m,\u001b[49m\n\u001b[1;32m    122\u001b[0m \u001b[43m        \u001b[49m\u001b[43mvalidate\u001b[49m\u001b[38;5;241;43m=\u001b[39;49m\u001b[43mvalidate\u001b[49m\u001b[43m,\u001b[49m\n\u001b[1;32m    123\u001b[0m \u001b[43m    \u001b[49m\u001b[43m)\u001b[49m\n\u001b[1;32m    124\u001b[0m     \u001b[38;5;28;01mreturn\u001b[39;00m op\u001b[38;5;241m.\u001b[39mget_result(copy\u001b[38;5;241m=\u001b[39mcopy)\n",
      "File \u001b[0;32m/usr/lib/python3/dist-packages/pandas/core/reshape/merge.py:703\u001b[0m, in \u001b[0;36m_MergeOperation.__init__\u001b[0;34m(self, left, right, how, on, left_on, right_on, axis, left_index, right_index, sort, suffixes, indicator, validate)\u001b[0m\n\u001b[1;32m    696\u001b[0m \u001b[38;5;28mself\u001b[39m\u001b[38;5;241m.\u001b[39m_cross \u001b[38;5;241m=\u001b[39m cross_col\n\u001b[1;32m    698\u001b[0m \u001b[38;5;66;03m# note this function has side effects\u001b[39;00m\n\u001b[1;32m    699\u001b[0m (\n\u001b[1;32m    700\u001b[0m     \u001b[38;5;28mself\u001b[39m\u001b[38;5;241m.\u001b[39mleft_join_keys,\n\u001b[1;32m    701\u001b[0m     \u001b[38;5;28mself\u001b[39m\u001b[38;5;241m.\u001b[39mright_join_keys,\n\u001b[1;32m    702\u001b[0m     \u001b[38;5;28mself\u001b[39m\u001b[38;5;241m.\u001b[39mjoin_names,\n\u001b[0;32m--> 703\u001b[0m ) \u001b[38;5;241m=\u001b[39m \u001b[38;5;28;43mself\u001b[39;49m\u001b[38;5;241;43m.\u001b[39;49m\u001b[43m_get_merge_keys\u001b[49m\u001b[43m(\u001b[49m\u001b[43m)\u001b[49m\n\u001b[1;32m    705\u001b[0m \u001b[38;5;66;03m# validate the merge keys dtypes. We may need to coerce\u001b[39;00m\n\u001b[1;32m    706\u001b[0m \u001b[38;5;66;03m# to avoid incompatible dtypes\u001b[39;00m\n\u001b[1;32m    707\u001b[0m \u001b[38;5;28mself\u001b[39m\u001b[38;5;241m.\u001b[39m_maybe_coerce_merge_keys()\n",
      "File \u001b[0;32m/usr/lib/python3/dist-packages/pandas/core/reshape/merge.py:1162\u001b[0m, in \u001b[0;36m_MergeOperation._get_merge_keys\u001b[0;34m(self)\u001b[0m\n\u001b[1;32m   1160\u001b[0m rk \u001b[38;5;241m=\u001b[39m cast(Hashable, rk)\n\u001b[1;32m   1161\u001b[0m \u001b[38;5;28;01mif\u001b[39;00m rk \u001b[38;5;129;01mis\u001b[39;00m \u001b[38;5;129;01mnot\u001b[39;00m \u001b[38;5;28;01mNone\u001b[39;00m:\n\u001b[0;32m-> 1162\u001b[0m     right_keys\u001b[38;5;241m.\u001b[39mappend(\u001b[43mright\u001b[49m\u001b[38;5;241;43m.\u001b[39;49m\u001b[43m_get_label_or_level_values\u001b[49m\u001b[43m(\u001b[49m\u001b[43mrk\u001b[49m\u001b[43m)\u001b[49m)\n\u001b[1;32m   1163\u001b[0m \u001b[38;5;28;01melse\u001b[39;00m:\n\u001b[1;32m   1164\u001b[0m     \u001b[38;5;66;03m# work-around for merge_asof(right_index=True)\u001b[39;00m\n\u001b[1;32m   1165\u001b[0m     right_keys\u001b[38;5;241m.\u001b[39mappend(right\u001b[38;5;241m.\u001b[39mindex)\n",
      "File \u001b[0;32m/usr/lib/python3/dist-packages/pandas/core/generic.py:1850\u001b[0m, in \u001b[0;36mNDFrame._get_label_or_level_values\u001b[0;34m(self, key, axis)\u001b[0m\n\u001b[1;32m   1844\u001b[0m     values \u001b[38;5;241m=\u001b[39m (\n\u001b[1;32m   1845\u001b[0m         \u001b[38;5;28mself\u001b[39m\u001b[38;5;241m.\u001b[39maxes[axis]\n\u001b[1;32m   1846\u001b[0m         \u001b[38;5;241m.\u001b[39mget_level_values(key)  \u001b[38;5;66;03m# type: ignore[assignment]\u001b[39;00m\n\u001b[1;32m   1847\u001b[0m         \u001b[38;5;241m.\u001b[39m_values\n\u001b[1;32m   1848\u001b[0m     )\n\u001b[1;32m   1849\u001b[0m \u001b[38;5;28;01melse\u001b[39;00m:\n\u001b[0;32m-> 1850\u001b[0m     \u001b[38;5;28;01mraise\u001b[39;00m \u001b[38;5;167;01mKeyError\u001b[39;00m(key)\n\u001b[1;32m   1852\u001b[0m \u001b[38;5;66;03m# Check for duplicates\u001b[39;00m\n\u001b[1;32m   1853\u001b[0m \u001b[38;5;28;01mif\u001b[39;00m values\u001b[38;5;241m.\u001b[39mndim \u001b[38;5;241m>\u001b[39m \u001b[38;5;241m1\u001b[39m:\n",
      "\u001b[0;31mKeyError\u001b[0m: 'Stat_code'"
     ]
    }
   ],
   "source": [
    "import pandas as pd\n",
    "# Read the original DataFrame from the file containing the relevant data\n",
    "df = pd.read_csv(\"Regional_Gross_Disposable_Household_Income.csv\")  # Replace \"original_data.csv\" with the correct filename/path\n",
    "\n",
    "# Read the \"Period\" column from the \"Life_Expectancy.csv\" file\n",
    "period_df = pd.read_csv(\"Life_Expectancy.csv\", usecols=[\"Period\",\"Life expectancy (LE)\"])\n",
    "\n",
    "# Assuming \"Period\" is a column in \"Life_Expectancy.csv,\" replace the existing \"Period\" column in the original DataFrame\n",
    "df[\"Period\"] = period_df[\"Period\"]\n",
    "df[\"Life expectancy (LE)\"] = period_df[\"Life expectancy (LE)\"]\n",
    "\n",
    "# Read the \"Period\" column from the \"Life_Expectancy.csv\" file\n",
    "Stat_code_df = pd.read_csv(\"Location_Codes.csv\", usecols=[\"Stat_code\"], sep=\"\\t\")\n",
    "\n",
    "# Assuming \"Period\" is a column in \"Life_Expectancy.csv,\" replace the existing \"Period\" column in the original DataFrame\n",
    "df[\"Stat_code\"] = Stat_code_df[\"Stat_code\"]\n",
    "\n",
    "merged_df = df.merge(period_df, on=[\"Stat_code\", \"Period\"], how=\"left\")\n",
    "print(merged_df.head())\n",
    "\n",
    "# Group by \"Stat_code\" and \"Period\" and calculate the mean of \"Expected_Age\" and \"RGDHI\"\n",
    "grouped_df = df.groupby([\"Stat_code\", \"Period\"]).agg({\"Life expectancy (LE)\": \"mean\"}).reset_index()\n",
    "# Display the new DataFrame\n",
    "print(grouped_df)\n"
   ]
  },
  {
   "cell_type": "code",
   "execution_count": 3,
   "metadata": {},
   "outputs": [
    {
     "name": "stdout",
     "output_type": "stream",
     "text": [
      "    ITL level ITL code                      Region name   1997   1998   1999  \\\n",
      "0          UK       UK                   United Kingdom  100.0  100.0  100.0   \n",
      "1       Other      TLB                          England  102.4  102.5  102.6   \n",
      "2        ITL1      TLC                       North East   86.0   84.8   84.2   \n",
      "3        ITL2     TLC1           Tees Valley and Durham   85.5   83.4   83.5   \n",
      "4        ITL3    TLC11  Hartlepool and Stockton-on-Tees   86.1   83.7   84.3   \n",
      "..        ...      ...                              ...    ...    ...    ...   \n",
      "229      ITL3    TLN0C         Causeway Coast and Glens   65.6   63.9   64.2   \n",
      "230      ITL3    TLN0D          Antrim and Newtownabbey   86.9   85.0   84.5   \n",
      "231      ITL3    TLN0E          Lisburn and Castlereagh   87.5   85.5   85.3   \n",
      "232      ITL3    TLN0F              Mid and East Antrim   86.0   84.6   83.6   \n",
      "233      ITL3    TLN0G              Fermanagh and Omagh   70.9   69.8   70.2   \n",
      "\n",
      "      2000   2001   2002   2003  ...   2014   2015   2016   2017   2018  \\\n",
      "0    100.0  100.0  100.0  100.0  ...  100.0  100.0  100.0  100.0  100.0   \n",
      "1    102.5  102.4  102.2  102.1  ...  102.1  102.4  102.5  102.4  102.5   \n",
      "2     84.2   84.7   84.1   84.2  ...   82.5   81.3   81.2   81.1   80.2   \n",
      "3     83.3   83.9   83.0   82.6  ...   81.1   79.6   79.4   79.4   78.6   \n",
      "4     83.3   83.7   84.2   83.9  ...   82.8   80.7   80.6   80.6   79.4   \n",
      "..     ...    ...    ...    ...  ...    ...    ...    ...    ...    ...   \n",
      "229   64.2   66.0   70.3   72.2  ...   76.7   78.7   80.6   81.8   80.4   \n",
      "230   86.0   84.5   87.1   87.7  ...   88.0   85.1   83.4   84.3   83.0   \n",
      "231   87.7   86.7   89.0   90.2  ...   90.8   92.4   93.7   93.8   93.5   \n",
      "232   84.7   81.8   84.4   85.7  ...   88.0   86.9   86.6   86.4   85.8   \n",
      "233   68.6   68.4   69.9   74.3  ...   74.1   75.0   76.1   76.9   75.6   \n",
      "\n",
      "      2019   2020     Period  Life expectancy (LE)  Stat_code  \n",
      "0    100.0  100.0  2001-2003                 73.42        NaN  \n",
      "1    102.5  102.4  2001-2003                 73.68        NaN  \n",
      "2     80.4   81.2  2001-2003                 75.13        NaN  \n",
      "3     78.7   79.7  2001-2003                 75.28        NaN  \n",
      "4     80.0   81.6  2001-2003                 74.80        NaN  \n",
      "..     ...    ...        ...                   ...        ...  \n",
      "229   80.4   79.9  2001-2003                 75.65        NaN  \n",
      "230   84.1   84.4  2001-2003                 74.61        NaN  \n",
      "231   92.7   92.3  2001-2003                 78.40        NaN  \n",
      "232   84.8   84.1  2001-2003                 76.65        NaN  \n",
      "233   76.7   76.5  2001-2003                 76.50        NaN  \n",
      "\n",
      "[234 rows x 30 columns]\n"
     ]
    }
   ],
   "source": [
    "import pandas as pd\n",
    "# Read the original DataFrame from the file containing the relevant data\n",
    "df = pd.read_csv(\"Regional_Gross_Disposable_Household_Income.csv\")  # Replace \"original_data.csv\" with the correct filename/path\n",
    "\n",
    "# Read the \"Period\" column from the \"Life_Expectancy.csv\" file\n",
    "period_df = pd.read_csv(\"Life_Expectancy.csv\", usecols=[\"Period\",\"Life expectancy (LE)\"])\n",
    "\n",
    "# Assuming \"Period\" is a column in \"Life_Expectancy.csv,\" replace the existing \"Period\" column in the original DataFrame\n",
    "df[\"Period\"] = period_df[\"Period\"]\n",
    "df[\"Life expectancy (LE)\"] = period_df[\"Life expectancy (LE)\"]\n",
    "\n",
    "# Read the \"Period\" column from the \"Life_Expectancy.csv\" file\n",
    "Stat_code_df = pd.read_csv(\"Location_Codes.csv\", usecols=[\"Stat_code\"], sep=\"\\t\")\n",
    "\n",
    "# Assuming \"Period\" is a column in \"Life_Expectancy.csv,\" replace the existing \"Period\" column in the original DataFrame\n",
    "df[\"Stat_code\"] = Stat_code_df[\"Stat_code\"]\n",
    "\n",
    "# Group by \"Stat_code\" and \"Period\" and calculate the mean of \"Expected_Age\" and \"RGDHI\"\n",
    "grouped_df = df.groupby([\"Stat_code\", \"Period\"]).agg({\"Life expectancy (LE)\": \"mean\"}).reset_index()\n",
    "\n",
    "grouped_df=df\n",
    "# Display the new DataFrame\n",
    "print(grouped_df)"
   ]
  },
  {
   "cell_type": "code",
   "execution_count": null,
   "metadata": {},
   "outputs": [],
   "source": []
  },
  {
   "cell_type": "markdown",
   "metadata": {},
   "source": [
    "# Q2(f)\n",
    "Split the data into (80%) training data and (20%) test data. Use an appropriate linear model from sklearn to predict the \"Stat_code\" using the \"Period\", \"RGDHI\" and \"Expected_Age\". Test your model using the test data set. Discuss your results including any relevant illustrations. (4 marks)"
   ]
  },
  {
   "cell_type": "code",
   "execution_count": null,
   "metadata": {},
   "outputs": [],
   "source": []
  },
  {
   "cell_type": "code",
   "execution_count": null,
   "metadata": {},
   "outputs": [],
   "source": []
  },
  {
   "cell_type": "code",
   "execution_count": null,
   "metadata": {},
   "outputs": [],
   "source": [
    "import pandas as pd\n",
    "from sklearn.model_selection import train_test_split\n",
    "from sklearn.linear_model import LinearRegression\n",
    "from sklearn.metrics import accuracy_score, confusion_matrix\n",
    "\n",
    "# Load the dataset containing the relevant data\n",
    "#df = pd.read_csv(\"Regional_Gross_Disposable_Household_Income.csv\")\n",
    "\n",
    "# Read the \"Period\" and \"Stat_code\" columns from the \"Life_Expectancy.csv\" file\n",
    "life_expectancy_df = pd.read_csv(\"Life_Expectancy.csv\", usecols=[\"Period\"])\n",
    "df[\"Period\"]=life_expectancy_df[\"Period\"]\n",
    "\n",
    "stat_df=pd.read_csv(\"Location_Codes.csv\", sep=\"\\t\", usecols=[\"Stat_code\"])\n",
    "life_expectancy_df[\"Stat_code\"]=stat_df[\"Stat_code\"]\n",
    "\n",
    "# Merge the \"Period\" and \"Stat_code\" columns from \"Life_Expectancy.csv\" into the original DataFrame\n",
    "df = df.merge(life_expectancy_df, on=[\"Period\"], how=\"left\")\n",
    "\n",
    "\n",
    "\n",
    "# Prepare features and target variables\n",
    "X = df[[\"Period\"]]\n",
    "y = df[\"Stat_code\"]\n",
    "\n",
    "# Split the data into training (80%) and test (20%) sets\n",
    "X_train, X_test, y_train, y_test = train_test_split(X, y, test_size=0.2, random_state=42)\n",
    "\n",
    "# Create and train a linear regression model\n",
    "model = LinearRegression()\n",
    "model.fit(X_train, y_train)\n",
    "\n",
    "# Make predictions on the test data\n",
    "predicted = model.predict(X_test)\n",
    "\n",
    "# Convert predicted values to integers (as Stat_code should be integers)\n",
    "predicted = predicted.astype(int)\n",
    "\n",
    "# Evaluate the model's performance\n",
    "accuracy = accuracy_score(y_test, predicted)\n",
    "conf_matrix = confusion_matrix(y_test, predicted)\n",
    "\n",
    "# Display results\n",
    "print(f\"Accuracy: {accuracy:.4f}\")\n",
    "print(\"Confusion Matrix:\")\n",
    "print(conf_matrix)\n"
   ]
  },
  {
   "cell_type": "markdown",
   "metadata": {},
   "source": [
    "# Q2(g)\n",
    "Split the data into (80%) training data and (20%) test data. Using PyTorch predict the \"Stat_Number\" using the \"Period\", \"RGDHI\" and \"Expected_Age\". Test your model using the test data set. Discuss your results. (6 marks)"
   ]
  },
  {
   "cell_type": "code",
   "execution_count": null,
   "metadata": {},
   "outputs": [],
   "source": []
  },
  {
   "cell_type": "code",
   "execution_count": null,
   "metadata": {},
   "outputs": [],
   "source": []
  },
  {
   "cell_type": "code",
   "execution_count": null,
   "metadata": {},
   "outputs": [],
   "source": []
  }
 ],
 "metadata": {
  "kernelspec": {
   "display_name": "Python 3 (ipykernel)",
   "language": "python",
   "name": "python3"
  },
  "language_info": {
   "codemirror_mode": {
    "name": "ipython",
    "version": 3
   },
   "file_extension": ".py",
   "mimetype": "text/x-python",
   "name": "python",
   "nbconvert_exporter": "python",
   "pygments_lexer": "ipython3",
   "version": "3.11.2"
  }
 },
 "nbformat": 4,
 "nbformat_minor": 4
}
